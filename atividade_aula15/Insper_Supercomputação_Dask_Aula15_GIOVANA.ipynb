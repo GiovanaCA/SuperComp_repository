{
  "nbformat": 4,
  "nbformat_minor": 0,
  "metadata": {
    "colab": {
      "provenance": []
    },
    "kernelspec": {
      "name": "python3",
      "display_name": "Python 3"
    },
    "language_info": {
      "name": "python"
    }
  },
  "cells": [
    {
      "cell_type": "markdown",
      "source": [
        "Insper\n",
        "\n",
        "## Supercomputação - Dask\n",
        "\n",
        "## 1. Setup inicial e obtendo os dados"
      ],
      "metadata": {
        "id": "L143lett95pu"
      }
    },
    {
      "cell_type": "code",
      "source": [
        "!pip install dask[complete]"
      ],
      "metadata": {
        "id": "-F0GrW1L-O32",
        "colab": {
          "base_uri": "https://localhost:8080/"
        },
        "collapsed": true,
        "outputId": "577d3bc6-cd71-475e-b6f3-acc4ab74cd4b"
      },
      "execution_count": 1,
      "outputs": [
        {
          "output_type": "stream",
          "name": "stdout",
          "text": [
            "Requirement already satisfied: dask[complete] in /usr/local/lib/python3.10/dist-packages (2024.8.2)\n",
            "Requirement already satisfied: click>=8.1 in /usr/local/lib/python3.10/dist-packages (from dask[complete]) (8.1.7)\n",
            "Requirement already satisfied: cloudpickle>=3.0.0 in /usr/local/lib/python3.10/dist-packages (from dask[complete]) (3.1.0)\n",
            "Requirement already satisfied: fsspec>=2021.09.0 in /usr/local/lib/python3.10/dist-packages (from dask[complete]) (2024.6.1)\n",
            "Requirement already satisfied: packaging>=20.0 in /usr/local/lib/python3.10/dist-packages (from dask[complete]) (24.1)\n",
            "Requirement already satisfied: partd>=1.4.0 in /usr/local/lib/python3.10/dist-packages (from dask[complete]) (1.4.2)\n",
            "Requirement already satisfied: pyyaml>=5.3.1 in /usr/local/lib/python3.10/dist-packages (from dask[complete]) (6.0.2)\n",
            "Requirement already satisfied: toolz>=0.10.0 in /usr/local/lib/python3.10/dist-packages (from dask[complete]) (0.12.1)\n",
            "Requirement already satisfied: importlib-metadata>=4.13.0 in /usr/local/lib/python3.10/dist-packages (from dask[complete]) (8.5.0)\n",
            "Requirement already satisfied: pyarrow>=14.0.1 in /usr/local/lib/python3.10/dist-packages (from dask[complete]) (16.1.0)\n",
            "Collecting lz4>=4.3.2 (from dask[complete])\n",
            "  Downloading lz4-4.3.3-cp310-cp310-manylinux_2_17_x86_64.manylinux2014_x86_64.whl.metadata (3.7 kB)\n",
            "Requirement already satisfied: zipp>=3.20 in /usr/local/lib/python3.10/dist-packages (from importlib-metadata>=4.13.0->dask[complete]) (3.20.2)\n",
            "Requirement already satisfied: locket in /usr/local/lib/python3.10/dist-packages (from partd>=1.4.0->dask[complete]) (1.0.0)\n",
            "Requirement already satisfied: numpy>=1.16.6 in /usr/local/lib/python3.10/dist-packages (from pyarrow>=14.0.1->dask[complete]) (1.26.4)\n",
            "Collecting distributed==2024.8.2 (from dask[complete])\n",
            "  Downloading distributed-2024.8.2-py3-none-any.whl.metadata (3.3 kB)\n",
            "Requirement already satisfied: bokeh>=2.4.2 in /usr/local/lib/python3.10/dist-packages (from dask[complete]) (3.4.3)\n",
            "Requirement already satisfied: jinja2>=2.10.3 in /usr/local/lib/python3.10/dist-packages (from dask[complete]) (3.1.4)\n",
            "Requirement already satisfied: pandas>=2.0 in /usr/local/lib/python3.10/dist-packages (from dask[complete]) (2.2.2)\n",
            "Collecting dask-expr<1.2,>=1.1 (from dask[complete])\n",
            "  Downloading dask_expr-1.1.16-py3-none-any.whl.metadata (2.5 kB)\n",
            "Requirement already satisfied: msgpack>=1.0.2 in /usr/local/lib/python3.10/dist-packages (from distributed==2024.8.2->dask[complete]) (1.1.0)\n",
            "Requirement already satisfied: psutil>=5.8.0 in /usr/local/lib/python3.10/dist-packages (from distributed==2024.8.2->dask[complete]) (5.9.5)\n",
            "Collecting sortedcontainers>=2.0.5 (from distributed==2024.8.2->dask[complete])\n",
            "  Downloading sortedcontainers-2.4.0-py2.py3-none-any.whl.metadata (10 kB)\n",
            "Collecting tblib>=1.6.0 (from distributed==2024.8.2->dask[complete])\n",
            "  Downloading tblib-3.0.0-py3-none-any.whl.metadata (25 kB)\n",
            "Requirement already satisfied: tornado>=6.2.0 in /usr/local/lib/python3.10/dist-packages (from distributed==2024.8.2->dask[complete]) (6.3.3)\n",
            "Requirement already satisfied: urllib3>=1.26.5 in /usr/local/lib/python3.10/dist-packages (from distributed==2024.8.2->dask[complete]) (2.2.3)\n",
            "Collecting zict>=3.0.0 (from distributed==2024.8.2->dask[complete])\n",
            "  Downloading zict-3.0.0-py2.py3-none-any.whl.metadata (899 bytes)\n",
            "Requirement already satisfied: contourpy>=1.2 in /usr/local/lib/python3.10/dist-packages (from bokeh>=2.4.2->dask[complete]) (1.3.0)\n",
            "Requirement already satisfied: pillow>=7.1.0 in /usr/local/lib/python3.10/dist-packages (from bokeh>=2.4.2->dask[complete]) (10.4.0)\n",
            "Requirement already satisfied: xyzservices>=2021.09.1 in /usr/local/lib/python3.10/dist-packages (from bokeh>=2.4.2->dask[complete]) (2024.9.0)\n",
            "INFO: pip is looking at multiple versions of dask-expr to determine which version is compatible with other requirements. This could take a while.\n",
            "Collecting dask-expr<1.2,>=1.1 (from dask[complete])\n",
            "  Downloading dask_expr-1.1.15-py3-none-any.whl.metadata (2.5 kB)\n",
            "  Downloading dask_expr-1.1.14-py3-none-any.whl.metadata (2.5 kB)\n",
            "  Downloading dask_expr-1.1.13-py3-none-any.whl.metadata (2.5 kB)\n",
            "Requirement already satisfied: MarkupSafe>=2.0 in /usr/local/lib/python3.10/dist-packages (from jinja2>=2.10.3->dask[complete]) (3.0.1)\n",
            "Requirement already satisfied: python-dateutil>=2.8.2 in /usr/local/lib/python3.10/dist-packages (from pandas>=2.0->dask[complete]) (2.8.2)\n",
            "Requirement already satisfied: pytz>=2020.1 in /usr/local/lib/python3.10/dist-packages (from pandas>=2.0->dask[complete]) (2024.2)\n",
            "Requirement already satisfied: tzdata>=2022.7 in /usr/local/lib/python3.10/dist-packages (from pandas>=2.0->dask[complete]) (2024.2)\n",
            "Requirement already satisfied: six>=1.5 in /usr/local/lib/python3.10/dist-packages (from python-dateutil>=2.8.2->pandas>=2.0->dask[complete]) (1.16.0)\n",
            "Downloading lz4-4.3.3-cp310-cp310-manylinux_2_17_x86_64.manylinux2014_x86_64.whl (1.3 MB)\n",
            "\u001b[2K   \u001b[90m━━━━━━━━━━━━━━━━━━━━━━━━━━━━━━━━━━━━━━━━\u001b[0m \u001b[32m1.3/1.3 MB\u001b[0m \u001b[31m9.6 MB/s\u001b[0m eta \u001b[36m0:00:00\u001b[0m\n",
            "\u001b[?25hDownloading distributed-2024.8.2-py3-none-any.whl (1.0 MB)\n",
            "\u001b[2K   \u001b[90m━━━━━━━━━━━━━━━━━━━━━━━━━━━━━━━━━━━━━━━━\u001b[0m \u001b[32m1.0/1.0 MB\u001b[0m \u001b[31m16.0 MB/s\u001b[0m eta \u001b[36m0:00:00\u001b[0m\n",
            "\u001b[?25hDownloading dask_expr-1.1.13-py3-none-any.whl (242 kB)\n",
            "\u001b[2K   \u001b[90m━━━━━━━━━━━━━━━━━━━━━━━━━━━━━━━━━━━━━━━━\u001b[0m \u001b[32m242.6/242.6 kB\u001b[0m \u001b[31m8.1 MB/s\u001b[0m eta \u001b[36m0:00:00\u001b[0m\n",
            "\u001b[?25hDownloading sortedcontainers-2.4.0-py2.py3-none-any.whl (29 kB)\n",
            "Downloading tblib-3.0.0-py3-none-any.whl (12 kB)\n",
            "Downloading zict-3.0.0-py2.py3-none-any.whl (43 kB)\n",
            "\u001b[2K   \u001b[90m━━━━━━━━━━━━━━━━━━━━━━━━━━━━━━━━━━━━━━━━\u001b[0m \u001b[32m43.3/43.3 kB\u001b[0m \u001b[31m2.1 MB/s\u001b[0m eta \u001b[36m0:00:00\u001b[0m\n",
            "\u001b[?25hInstalling collected packages: sortedcontainers, zict, tblib, lz4, distributed, dask-expr\n",
            "Successfully installed dask-expr-1.1.13 distributed-2024.8.2 lz4-4.3.3 sortedcontainers-2.4.0 tblib-3.0.0 zict-3.0.0\n"
          ]
        }
      ]
    },
    {
      "cell_type": "code",
      "source": [
        "!pip install graphviz"
      ],
      "metadata": {
        "id": "LTZiDdm5-PpN",
        "colab": {
          "base_uri": "https://localhost:8080/"
        },
        "outputId": "aec751f5-821a-46be-9cb1-b36de4d3d1cd"
      },
      "execution_count": 2,
      "outputs": [
        {
          "output_type": "stream",
          "name": "stdout",
          "text": [
            "Requirement already satisfied: graphviz in /usr/local/lib/python3.10/dist-packages (0.20.3)\n"
          ]
        }
      ]
    },
    {
      "cell_type": "code",
      "source": [
        "import pandas as pd\n",
        "import numpy as np\n",
        "from dask import delayed\n",
        "from time import sleep"
      ],
      "metadata": {
        "id": "OYeVpfb-sLUw"
      },
      "execution_count": 3,
      "outputs": []
    },
    {
      "cell_type": "code",
      "execution_count": 4,
      "metadata": {
        "id": "g_FRLb3JpxIh",
        "colab": {
          "base_uri": "https://localhost:8080/"
        },
        "collapsed": true,
        "outputId": "8be5d29e-761c-4add-d194-52a9f07ad2a3"
      },
      "outputs": [
        {
          "output_type": "stream",
          "name": "stdout",
          "text": [
            "--2024-10-18 17:03:26--  https://storage.googleapis.com/dask-tutorial-data/nycflights.tar.gz\n",
            "Resolving storage.googleapis.com (storage.googleapis.com)... 172.217.203.207, 142.250.98.207, 74.125.134.207, ...\n",
            "Connecting to storage.googleapis.com (storage.googleapis.com)|172.217.203.207|:443... connected.\n",
            "HTTP request sent, awaiting response... 200 OK\n",
            "Length: 44120091 (42M) [application/x-gzip]\n",
            "Saving to: ‘nycflights.tar.gz’\n",
            "\n",
            "nycflights.tar.gz   100%[===================>]  42.08M  67.5MB/s    in 0.6s    \n",
            "\n",
            "2024-10-18 17:03:27 (67.5 MB/s) - ‘nycflights.tar.gz’ saved [44120091/44120091]\n",
            "\n",
            "nycflights/\n",
            "nycflights/1990.csv\n",
            "nycflights/1991.csv\n",
            "nycflights/1992.csv\n",
            "nycflights/1993.csv\n",
            "nycflights/1994.csv\n",
            "nycflights/1995.csv\n",
            "nycflights/1996.csv\n",
            "nycflights/1997.csv\n",
            "nycflights/1998.csv\n",
            "nycflights/1999.csv\n"
          ]
        }
      ],
      "source": [
        "!wget https://storage.googleapis.com/dask-tutorial-data/nycflights.tar.gz\n",
        "!mkdir data\n",
        "!tar -xvzf nycflights.tar.gz -C data"
      ]
    },
    {
      "cell_type": "code",
      "source": [
        "import glob\n",
        "\n",
        "filenames = glob.glob(\"data/nycflights/*.csv\")\n",
        "\n",
        "for i in filenames:\n",
        "  print(i)"
      ],
      "metadata": {
        "id": "fHbmv-pRrvkm",
        "colab": {
          "base_uri": "https://localhost:8080/"
        },
        "outputId": "713fccd4-119a-46d1-c079-03f29ba7003a"
      },
      "execution_count": 5,
      "outputs": [
        {
          "output_type": "stream",
          "name": "stdout",
          "text": [
            "data/nycflights/1996.csv\n",
            "data/nycflights/1999.csv\n",
            "data/nycflights/1995.csv\n",
            "data/nycflights/1997.csv\n",
            "data/nycflights/1990.csv\n",
            "data/nycflights/1992.csv\n",
            "data/nycflights/1998.csv\n",
            "data/nycflights/1994.csv\n",
            "data/nycflights/1991.csv\n",
            "data/nycflights/1993.csv\n"
          ]
        }
      ]
    },
    {
      "cell_type": "markdown",
      "source": [
        "## 1.1 Usando Pandas para obter o maior atraso dentre todos os voos"
      ],
      "metadata": {
        "id": "8KC5Jf33-XRt"
      }
    },
    {
      "cell_type": "code",
      "source": [
        "# Qual é o maior atraso (DepDelay) dentre todos os voos (todos os arquivos)?\n",
        "%%time\n",
        "lista = []\n",
        "\n",
        "for f in filenames:\n",
        "  df = pd.read_csv(f)\n",
        "  max_ = df[\"DepDelay\"].max()\n",
        "  lista.append(max_)\n",
        "\n",
        "final_max = max(lista)\n",
        "print(final_max)"
      ],
      "metadata": {
        "id": "8sIQDtzNr3nU",
        "colab": {
          "base_uri": "https://localhost:8080/"
        },
        "outputId": "daf02f2a-54f9-4aac-9a0d-a5eb3670fe6d"
      },
      "execution_count": 6,
      "outputs": [
        {
          "output_type": "stream",
          "name": "stdout",
          "text": [
            "1435.0\n",
            "CPU times: user 6.64 s, sys: 351 ms, total: 6.99 s\n",
            "Wall time: 7.06 s\n"
          ]
        }
      ]
    },
    {
      "cell_type": "markdown",
      "source": [
        "## 2. Usando Dask Delayed para obter o maior atraso dentre todos os voos"
      ],
      "metadata": {
        "id": "_xND18qDsetn"
      }
    },
    {
      "cell_type": "code",
      "source": [
        "# Qual é o maior atraso (DepDelay) dentre todos os voos (todos os arquivos)?\n",
        "%%time\n",
        "lista = []\n",
        "\n",
        "for f in filenames:\n",
        "  df = delayed(pd.read_csv)(f)\n",
        "  max_ = df[\"DepDelay\"].max()\n",
        "  lista.append(max_)\n",
        "\n",
        "final_max = delayed(max)(lista)\n",
        "print(final_max)"
      ],
      "metadata": {
        "id": "hdLd_QDYsdnP",
        "colab": {
          "base_uri": "https://localhost:8080/"
        },
        "outputId": "6a20de59-b873-42f5-a98b-219cda8d1dbc"
      },
      "execution_count": 8,
      "outputs": [
        {
          "output_type": "stream",
          "name": "stdout",
          "text": [
            "Delayed('max-55add871-01ed-4dcd-be51-b6db980978ab')\n",
            "CPU times: user 6.5 ms, sys: 955 µs, total: 7.45 ms\n",
            "Wall time: 10.1 ms\n"
          ]
        }
      ]
    },
    {
      "cell_type": "code",
      "source": [
        "final_max.visualize()"
      ],
      "metadata": {
        "id": "Tb0NubbxsDnF",
        "colab": {
          "base_uri": "https://localhost:8080/",
          "height": 955
        },
        "outputId": "d960463e-12f3-4987-85af-e659fa85cad4"
      },
      "execution_count": 9,
      "outputs": [
        {
          "output_type": "execute_result",
          "data": {
            "image/png": "[encoded data removed]",
            "text/plain": [
              "<IPython.core.display.Image object>"
            ]
          },
          "metadata": {},
          "execution_count": 9
        }
      ]
    },
    {
      "cell_type": "code",
      "source": [
        "%%time\n",
        "final_max.compute()"
      ],
      "metadata": {
        "id": "Nz9SVWIOsUKs",
        "colab": {
          "base_uri": "https://localhost:8080/"
        },
        "outputId": "ae0d6d23-43c2-4bb2-8767-e7abd81f1304"
      },
      "execution_count": 10,
      "outputs": [
        {
          "output_type": "stream",
          "name": "stdout",
          "text": [
            "CPU times: user 10.7 s, sys: 1.24 s, total: 11.9 s\n",
            "Wall time: 7.33 s\n"
          ]
        },
        {
          "output_type": "execute_result",
          "data": {
            "text/plain": [
              "1435.0"
            ]
          },
          "metadata": {},
          "execution_count": 10
        }
      ]
    },
    {
      "cell_type": "markdown",
      "source": [
        "## 3. Usando Dask DataFrames"
      ],
      "metadata": {
        "id": "sV56UiLE_YXd"
      }
    },
    {
      "cell_type": "code",
      "source": [
        "import dask.dataframe as ddf"
      ],
      "metadata": {
        "id": "vU864mU3slTE"
      },
      "execution_count": 11,
      "outputs": []
    },
    {
      "cell_type": "code",
      "source": [
        "%%time\n",
        "dados = ddf.read_csv(\"data/nycflights/*.csv\")\n",
        "dados[\"DepDelay\"].max().compute()"
      ],
      "metadata": {
        "id": "3xZPJZFZsoY7",
        "colab": {
          "base_uri": "https://localhost:8080/"
        },
        "outputId": "2bcb196e-338d-4cfc-d90d-485d1bcddabd"
      },
      "execution_count": 12,
      "outputs": [
        {
          "output_type": "stream",
          "name": "stdout",
          "text": [
            "CPU times: user 3.52 s, sys: 115 ms, total: 3.63 s\n",
            "Wall time: 1.96 s\n"
          ]
        },
        {
          "output_type": "execute_result",
          "data": {
            "text/plain": [
              "1435.0"
            ]
          },
          "metadata": {},
          "execution_count": 12
        }
      ]
    },
    {
      "cell_type": "code",
      "source": [
        "# Grafo do maior atraso?\n",
        "dados[\"DepDelay\"].max().visualize()"
      ],
      "metadata": {
        "id": "Fo0qxaHAspmE",
        "colab": {
          "base_uri": "https://localhost:8080/",
          "height": 291
        },
        "outputId": "92a1b749-7163-4139-d036-26ea31c2bc41"
      },
      "execution_count": 13,
      "outputs": [
        {
          "output_type": "execute_result",
          "data": {
            "image/svg+xml": "<?xml version=\"1.0\" encoding=\"UTF-8\" standalone=\"no\"?>\n<!DOCTYPE svg PUBLIC \"-//W3C//DTD SVG 1.1//EN\"\n \"http://www.w3.org/Graphics/SVG/1.1/DTD/svg11.dtd\">\n<!-- Generated by graphviz version 2.43.0 (0)\n -->\n<!-- Title: %3 Pages: 1 -->\n<svg width=\"313pt\" height=\"188pt\"\n viewBox=\"0.00 0.00 313.00 188.00\" xmlns=\"http://www.w3.org/2000/svg\" xmlns:xlink=\"http://www.w3.org/1999/xlink\">\n<g id=\"graph0\" class=\"graph\" transform=\"scale(1 1) rotate(0) translate(4 184)\">\n<title>%3</title>\n<polygon fill=\"white\" stroke=\"transparent\" points=\"-4,4 -4,-184 309,-184 309,4 -4,4\"/>\n<!-- 460657098747962813 -->\n<g id=\"node1\" class=\"node\">\n<title>460657098747962813</title>\n<polygon fill=\"none\" stroke=\"black\" points=\"231,-180 74,-180 74,-144 231,-144 231,-180\"/>\n<text text-anchor=\"middle\" x=\"152.5\" y=\"-157\" font-family=\"Helvetica,sans-Serif\" font-size=\"20.00\">Max(Projection)</text>\n</g>\n<!-- &#45;8680526894797450833 -->\n<g id=\"node2\" class=\"node\">\n<title>&#45;8680526894797450833</title>\n<polygon fill=\"none\" stroke=\"black\" points=\"305,-108 0,-108 0,-72 305,-72 305,-108\"/>\n<text text-anchor=\"middle\" x=\"152.5\" y=\"-85\" font-family=\"Helvetica,sans-Serif\" font-size=\"20.00\">Projection(ReadCSV, DepDelay)</text>\n</g>\n<!-- &#45;8680526894797450833&#45;&gt;460657098747962813 -->\n<g id=\"edge1\" class=\"edge\">\n<title>&#45;8680526894797450833&#45;&gt;460657098747962813</title>\n<path fill=\"none\" stroke=\"black\" d=\"M152.5,-108.3C152.5,-116.02 152.5,-125.29 152.5,-133.89\"/>\n<polygon fill=\"black\" stroke=\"black\" points=\"149,-133.9 152.5,-143.9 156,-133.9 149,-133.9\"/>\n</g>\n<!-- 7314393446738042852 -->\n<g id=\"node3\" class=\"node\">\n<title>7314393446738042852</title>\n<polygon fill=\"none\" stroke=\"black\" points=\"205.5,-36 99.5,-36 99.5,0 205.5,0 205.5,-36\"/>\n<text text-anchor=\"middle\" x=\"152.5\" y=\"-13\" font-family=\"Helvetica,sans-Serif\" font-size=\"20.00\">ReadCSV</text>\n</g>\n<!-- 7314393446738042852&#45;&gt;&#45;8680526894797450833 -->\n<g id=\"edge2\" class=\"edge\">\n<title>7314393446738042852&#45;&gt;&#45;8680526894797450833</title>\n<path fill=\"none\" stroke=\"black\" d=\"M152.5,-36.3C152.5,-44.02 152.5,-53.29 152.5,-61.89\"/>\n<polygon fill=\"black\" stroke=\"black\" points=\"149,-61.9 152.5,-71.9 156,-61.9 149,-61.9\"/>\n</g>\n</g>\n</svg>\n",
            "text/plain": [
              "<graphviz.graphs.Digraph at 0x786ecd98a770>"
            ]
          },
          "metadata": {},
          "execution_count": 13
        }
      ]
    },
    {
      "cell_type": "code",
      "source": [
        "# Maior atraso por origem?\n",
        "dados.groupby(\"Origin\").DepDelay.max().compute()"
      ],
      "metadata": {
        "id": "qga0KSPcsrE7",
        "colab": {
          "base_uri": "https://localhost:8080/",
          "height": 229
        },
        "outputId": "b0fd723e-edf6-445b-b9fe-e8e7c08589a9"
      },
      "execution_count": 14,
      "outputs": [
        {
          "output_type": "execute_result",
          "data": {
            "text/plain": [
              "Origin\n",
              "EWR    1134.0\n",
              "JFK    1435.0\n",
              "LGA    1435.0\n",
              "Name: DepDelay, dtype: float64"
            ],
            "text/html": [
              "<div>\n",
              "<style scoped>\n",
              "    .dataframe tbody tr th:only-of-type {\n",
              "        vertical-align: middle;\n",
              "    }\n",
              "\n",
              "    .dataframe tbody tr th {\n",
              "        vertical-align: top;\n",
              "    }\n",
              "\n",
              "    .dataframe thead th {\n",
              "        text-align: right;\n",
              "    }\n",
              "</style>\n",
              "<table border=\"1\" class=\"dataframe\">\n",
              "  <thead>\n",
              "    <tr style=\"text-align: right;\">\n",
              "      <th></th>\n",
              "      <th>DepDelay</th>\n",
              "    </tr>\n",
              "    <tr>\n",
              "      <th>Origin</th>\n",
              "      <th></th>\n",
              "    </tr>\n",
              "  </thead>\n",
              "  <tbody>\n",
              "    <tr>\n",
              "      <th>EWR</th>\n",
              "      <td>1134.0</td>\n",
              "    </tr>\n",
              "    <tr>\n",
              "      <th>JFK</th>\n",
              "      <td>1435.0</td>\n",
              "    </tr>\n",
              "    <tr>\n",
              "      <th>LGA</th>\n",
              "      <td>1435.0</td>\n",
              "    </tr>\n",
              "  </tbody>\n",
              "</table>\n",
              "</div><br><label><b>dtype:</b> float64</label>"
            ]
          },
          "metadata": {},
          "execution_count": 14
        }
      ]
    },
    {
      "cell_type": "markdown",
      "source": [
        "Obter os voos não cancelados\n",
        "\n",
        "Obter a média e o desvio padrão dos atrasos dos voos não cancelados"
      ],
      "metadata": {
        "id": "a0FwIWIQsvDT"
      }
    },
    {
      "cell_type": "code",
      "source": [
        "df = ddf.read_csv(\"data/nycflights/*.csv\")"
      ],
      "metadata": {
        "id": "7Z6uoHMl5szf"
      },
      "execution_count": 15,
      "outputs": []
    },
    {
      "cell_type": "code",
      "source": [
        "# Primeiras linhas\n",
        "df.head()"
      ],
      "metadata": {
        "id": "VrQZ4xE06FeH",
        "colab": {
          "base_uri": "https://localhost:8080/",
          "height": 285
        },
        "outputId": "1368f25c-ddc9-40a2-f6fe-f8fe9f0f0eac"
      },
      "execution_count": 16,
      "outputs": [
        {
          "output_type": "execute_result",
          "data": {
            "text/plain": [
              "   Year  Month  DayofMonth  DayOfWeek  DepTime  CRSDepTime  ArrTime  \\\n",
              "0  1990      1           1          1   1621.0        1540   1747.0   \n",
              "1  1990      1           2          2   1547.0        1540   1700.0   \n",
              "2  1990      1           3          3   1546.0        1540   1710.0   \n",
              "3  1990      1           4          4   1542.0        1540   1710.0   \n",
              "4  1990      1           5          5   1549.0        1540   1706.0   \n",
              "\n",
              "   CRSArrTime UniqueCarrier  FlightNum  ...  AirTime  ArrDelay  DepDelay  \\\n",
              "0        1701            US         33  ...      NaN      46.0      41.0   \n",
              "1        1701            US         33  ...      NaN      -1.0       7.0   \n",
              "2        1701            US         33  ...      NaN       9.0       6.0   \n",
              "3        1701            US         33  ...      NaN       9.0       2.0   \n",
              "4        1701            US         33  ...      NaN       5.0       9.0   \n",
              "\n",
              "   Origin  Dest  Distance TaxiIn TaxiOut  Cancelled  Diverted  \n",
              "0     EWR   PIT     319.0    NaN     NaN          0         0  \n",
              "1     EWR   PIT     319.0    NaN     NaN          0         0  \n",
              "2     EWR   PIT     319.0    NaN     NaN          0         0  \n",
              "3     EWR   PIT     319.0    NaN     NaN          0         0  \n",
              "4     EWR   PIT     319.0    NaN     NaN          0         0  \n",
              "\n",
              "[5 rows x 23 columns]"
            ],
            "text/html": [
              "\n",
              "  <div id=\"df-5d4aee5b-986e-473d-b422-3b650498898b\" class=\"colab-df-container\">\n",
              "    <div>\n",
              "<style scoped>\n",
              "    .dataframe tbody tr th:only-of-type {\n",
              "        vertical-align: middle;\n",
              "    }\n",
              "\n",
              "    .dataframe tbody tr th {\n",
              "        vertical-align: top;\n",
              "    }\n",
              "\n",
              "    .dataframe thead th {\n",
              "        text-align: right;\n",
              "    }\n",
              "</style>\n",
              "<table border=\"1\" class=\"dataframe\">\n",
              "  <thead>\n",
              "    <tr style=\"text-align: right;\">\n",
              "      <th></th>\n",
              "      <th>Year</th>\n",
              "      <th>Month</th>\n",
              "      <th>DayofMonth</th>\n",
              "      <th>DayOfWeek</th>\n",
              "      <th>DepTime</th>\n",
              "      <th>CRSDepTime</th>\n",
              "      <th>ArrTime</th>\n",
              "      <th>CRSArrTime</th>\n",
              "      <th>UniqueCarrier</th>\n",
              "      <th>FlightNum</th>\n",
              "      <th>...</th>\n",
              "      <th>AirTime</th>\n",
              "      <th>ArrDelay</th>\n",
              "      <th>DepDelay</th>\n",
              "      <th>Origin</th>\n",
              "      <th>Dest</th>\n",
              "      <th>Distance</th>\n",
              "      <th>TaxiIn</th>\n",
              "      <th>TaxiOut</th>\n",
              "      <th>Cancelled</th>\n",
              "      <th>Diverted</th>\n",
              "    </tr>\n",
              "  </thead>\n",
              "  <tbody>\n",
              "    <tr>\n",
              "      <th>0</th>\n",
              "      <td>1990</td>\n",
              "      <td>1</td>\n",
              "      <td>1</td>\n",
              "      <td>1</td>\n",
              "      <td>1621.0</td>\n",
              "      <td>1540</td>\n",
              "      <td>1747.0</td>\n",
              "      <td>1701</td>\n",
              "      <td>US</td>\n",
              "      <td>33</td>\n",
              "      <td>...</td>\n",
              "      <td>NaN</td>\n",
              "      <td>46.0</td>\n",
              "      <td>41.0</td>\n",
              "      <td>EWR</td>\n",
              "      <td>PIT</td>\n",
              "      <td>319.0</td>\n",
              "      <td>NaN</td>\n",
              "      <td>NaN</td>\n",
              "      <td>0</td>\n",
              "      <td>0</td>\n",
              "    </tr>\n",
              "    <tr>\n",
              "      <th>1</th>\n",
              "      <td>1990</td>\n",
              "      <td>1</td>\n",
              "      <td>2</td>\n",
              "      <td>2</td>\n",
              "      <td>1547.0</td>\n",
              "      <td>1540</td>\n",
              "      <td>1700.0</td>\n",
              "      <td>1701</td>\n",
              "      <td>US</td>\n",
              "      <td>33</td>\n",
              "      <td>...</td>\n",
              "      <td>NaN</td>\n",
              "      <td>-1.0</td>\n",
              "      <td>7.0</td>\n",
              "      <td>EWR</td>\n",
              "      <td>PIT</td>\n",
              "      <td>319.0</td>\n",
              "      <td>NaN</td>\n",
              "      <td>NaN</td>\n",
              "      <td>0</td>\n",
              "      <td>0</td>\n",
              "    </tr>\n",
              "    <tr>\n",
              "      <th>2</th>\n",
              "      <td>1990</td>\n",
              "      <td>1</td>\n",
              "      <td>3</td>\n",
              "      <td>3</td>\n",
              "      <td>1546.0</td>\n",
              "      <td>1540</td>\n",
              "      <td>1710.0</td>\n",
              "      <td>1701</td>\n",
              "      <td>US</td>\n",
              "      <td>33</td>\n",
              "      <td>...</td>\n",
              "      <td>NaN</td>\n",
              "      <td>9.0</td>\n",
              "      <td>6.0</td>\n",
              "      <td>EWR</td>\n",
              "      <td>PIT</td>\n",
              "      <td>319.0</td>\n",
              "      <td>NaN</td>\n",
              "      <td>NaN</td>\n",
              "      <td>0</td>\n",
              "      <td>0</td>\n",
              "    </tr>\n",
              "    <tr>\n",
              "      <th>3</th>\n",
              "      <td>1990</td>\n",
              "      <td>1</td>\n",
              "      <td>4</td>\n",
              "      <td>4</td>\n",
              "      <td>1542.0</td>\n",
              "      <td>1540</td>\n",
              "      <td>1710.0</td>\n",
              "      <td>1701</td>\n",
              "      <td>US</td>\n",
              "      <td>33</td>\n",
              "      <td>...</td>\n",
              "      <td>NaN</td>\n",
              "      <td>9.0</td>\n",
              "      <td>2.0</td>\n",
              "      <td>EWR</td>\n",
              "      <td>PIT</td>\n",
              "      <td>319.0</td>\n",
              "      <td>NaN</td>\n",
              "      <td>NaN</td>\n",
              "      <td>0</td>\n",
              "      <td>0</td>\n",
              "    </tr>\n",
              "    <tr>\n",
              "      <th>4</th>\n",
              "      <td>1990</td>\n",
              "      <td>1</td>\n",
              "      <td>5</td>\n",
              "      <td>5</td>\n",
              "      <td>1549.0</td>\n",
              "      <td>1540</td>\n",
              "      <td>1706.0</td>\n",
              "      <td>1701</td>\n",
              "      <td>US</td>\n",
              "      <td>33</td>\n",
              "      <td>...</td>\n",
              "      <td>NaN</td>\n",
              "      <td>5.0</td>\n",
              "      <td>9.0</td>\n",
              "      <td>EWR</td>\n",
              "      <td>PIT</td>\n",
              "      <td>319.0</td>\n",
              "      <td>NaN</td>\n",
              "      <td>NaN</td>\n",
              "      <td>0</td>\n",
              "      <td>0</td>\n",
              "    </tr>\n",
              "  </tbody>\n",
              "</table>\n",
              "<p>5 rows × 23 columns</p>\n",
              "</div>\n",
              "    <div class=\"colab-df-buttons\">\n",
              "\n",
              "  <div class=\"colab-df-container\">\n",
              "    <button class=\"colab-df-convert\" onclick=\"convertToInteractive('df-5d4aee5b-986e-473d-b422-3b650498898b')\"\n",
              "            title=\"Convert this dataframe to an interactive table.\"\n",
              "            style=\"display:none;\">\n",
              "\n",
              "  <svg xmlns=\"http://www.w3.org/2000/svg\" height=\"24px\" viewBox=\"0 -960 960 960\">\n",
              "    <path d=\"M120-120v-720h720v720H120Zm60-500h600v-160H180v160Zm220 220h160v-160H400v160Zm0 220h160v-160H400v160ZM180-400h160v-160H180v160Zm440 0h160v-160H620v160ZM180-180h160v-160H180v160Zm440 0h160v-160H620v160Z\"/>\n",
              "  </svg>\n",
              "    </button>\n",
              "\n",
              "  <style>\n",
              "    .colab-df-container {\n",
              "      display:flex;\n",
              "      gap: 12px;\n",
              "    }\n",
              "\n",
              "    .colab-df-convert {\n",
              "      background-color: #E8F0FE;\n",
              "      border: none;\n",
              "      border-radius: 50%;\n",
              "      cursor: pointer;\n",
              "      display: none;\n",
              "      fill: #1967D2;\n",
              "      height: 32px;\n",
              "      padding: 0 0 0 0;\n",
              "      width: 32px;\n",
              "    }\n",
              "\n",
              "    .colab-df-convert:hover {\n",
              "      background-color: #E2EBFA;\n",
              "      box-shadow: 0px 1px 2px rgba(60, 64, 67, 0.3), 0px 1px 3px 1px rgba(60, 64, 67, 0.15);\n",
              "      fill: #174EA6;\n",
              "    }\n",
              "\n",
              "    .colab-df-buttons div {\n",
              "      margin-bottom: 4px;\n",
              "    }\n",
              "\n",
              "    [theme=dark] .colab-df-convert {\n",
              "      background-color: #3B4455;\n",
              "      fill: #D2E3FC;\n",
              "    }\n",
              "\n",
              "    [theme=dark] .colab-df-convert:hover {\n",
              "      background-color: #434B5C;\n",
              "      box-shadow: 0px 1px 3px 1px rgba(0, 0, 0, 0.15);\n",
              "      filter: drop-shadow(0px 1px 2px rgba(0, 0, 0, 0.3));\n",
              "      fill: #FFFFFF;\n",
              "    }\n",
              "  </style>\n",
              "\n",
              "    <script>\n",
              "      const buttonEl =\n",
              "        document.querySelector('#df-5d4aee5b-986e-473d-b422-3b650498898b button.colab-df-convert');\n",
              "      buttonEl.style.display =\n",
              "        google.colab.kernel.accessAllowed ? 'block' : 'none';\n",
              "\n",
              "      async function convertToInteractive(key) {\n",
              "        const element = document.querySelector('#df-5d4aee5b-986e-473d-b422-3b650498898b');\n",
              "        const dataTable =\n",
              "          await google.colab.kernel.invokeFunction('convertToInteractive',\n",
              "                                                    [key], {});\n",
              "        if (!dataTable) return;\n",
              "\n",
              "        const docLinkHtml = 'Like what you see? Visit the ' +\n",
              "          '<a target=\"_blank\" href=https://colab.research.google.com/notebooks/data_table.ipynb>data table notebook</a>'\n",
              "          + ' to learn more about interactive tables.';\n",
              "        element.innerHTML = '';\n",
              "        dataTable['output_type'] = 'display_data';\n",
              "        await google.colab.output.renderOutput(dataTable, element);\n",
              "        const docLink = document.createElement('div');\n",
              "        docLink.innerHTML = docLinkHtml;\n",
              "        element.appendChild(docLink);\n",
              "      }\n",
              "    </script>\n",
              "  </div>\n",
              "\n",
              "\n",
              "<div id=\"df-4439108f-f97f-4e06-97db-3cf321c7ef75\">\n",
              "  <button class=\"colab-df-quickchart\" onclick=\"quickchart('df-4439108f-f97f-4e06-97db-3cf321c7ef75')\"\n",
              "            title=\"Suggest charts\"\n",
              "            style=\"display:none;\">\n",
              "\n",
              "<svg xmlns=\"http://www.w3.org/2000/svg\" height=\"24px\"viewBox=\"0 0 24 24\"\n",
              "     width=\"24px\">\n",
              "    <g>\n",
              "        <path d=\"M19 3H5c-1.1 0-2 .9-2 2v14c0 1.1.9 2 2 2h14c1.1 0 2-.9 2-2V5c0-1.1-.9-2-2-2zM9 17H7v-7h2v7zm4 0h-2V7h2v10zm4 0h-2v-4h2v4z\"/>\n",
              "    </g>\n",
              "</svg>\n",
              "  </button>\n",
              "\n",
              "<style>\n",
              "  .colab-df-quickchart {\n",
              "      --bg-color: #E8F0FE;\n",
              "      --fill-color: #1967D2;\n",
              "      --hover-bg-color: #E2EBFA;\n",
              "      --hover-fill-color: #174EA6;\n",
              "      --disabled-fill-color: #AAA;\n",
              "      --disabled-bg-color: #DDD;\n",
              "  }\n",
              "\n",
              "  [theme=dark] .colab-df-quickchart {\n",
              "      --bg-color: #3B4455;\n",
              "      --fill-color: #D2E3FC;\n",
              "      --hover-bg-color: #434B5C;\n",
              "      --hover-fill-color: #FFFFFF;\n",
              "      --disabled-bg-color: #3B4455;\n",
              "      --disabled-fill-color: #666;\n",
              "  }\n",
              "\n",
              "  .colab-df-quickchart {\n",
              "    background-color: var(--bg-color);\n",
              "    border: none;\n",
              "    border-radius: 50%;\n",
              "    cursor: pointer;\n",
              "    display: none;\n",
              "    fill: var(--fill-color);\n",
              "    height: 32px;\n",
              "    padding: 0;\n",
              "    width: 32px;\n",
              "  }\n",
              "\n",
              "  .colab-df-quickchart:hover {\n",
              "    background-color: var(--hover-bg-color);\n",
              "    box-shadow: 0 1px 2px rgba(60, 64, 67, 0.3), 0 1px 3px 1px rgba(60, 64, 67, 0.15);\n",
              "    fill: var(--button-hover-fill-color);\n",
              "  }\n",
              "\n",
              "  .colab-df-quickchart-complete:disabled,\n",
              "  .colab-df-quickchart-complete:disabled:hover {\n",
              "    background-color: var(--disabled-bg-color);\n",
              "    fill: var(--disabled-fill-color);\n",
              "    box-shadow: none;\n",
              "  }\n",
              "\n",
              "  .colab-df-spinner {\n",
              "    border: 2px solid var(--fill-color);\n",
              "    border-color: transparent;\n",
              "    border-bottom-color: var(--fill-color);\n",
              "    animation:\n",
              "      spin 1s steps(1) infinite;\n",
              "  }\n",
              "\n",
              "  @keyframes spin {\n",
              "    0% {\n",
              "      border-color: transparent;\n",
              "      border-bottom-color: var(--fill-color);\n",
              "      border-left-color: var(--fill-color);\n",
              "    }\n",
              "    20% {\n",
              "      border-color: transparent;\n",
              "      border-left-color: var(--fill-color);\n",
              "      border-top-color: var(--fill-color);\n",
              "    }\n",
              "    30% {\n",
              "      border-color: transparent;\n",
              "      border-left-color: var(--fill-color);\n",
              "      border-top-color: var(--fill-color);\n",
              "      border-right-color: var(--fill-color);\n",
              "    }\n",
              "    40% {\n",
              "      border-color: transparent;\n",
              "      border-right-color: var(--fill-color);\n",
              "      border-top-color: var(--fill-color);\n",
              "    }\n",
              "    60% {\n",
              "      border-color: transparent;\n",
              "      border-right-color: var(--fill-color);\n",
              "    }\n",
              "    80% {\n",
              "      border-color: transparent;\n",
              "      border-right-color: var(--fill-color);\n",
              "      border-bottom-color: var(--fill-color);\n",
              "    }\n",
              "    90% {\n",
              "      border-color: transparent;\n",
              "      border-bottom-color: var(--fill-color);\n",
              "    }\n",
              "  }\n",
              "</style>\n",
              "\n",
              "  <script>\n",
              "    async function quickchart(key) {\n",
              "      const quickchartButtonEl =\n",
              "        document.querySelector('#' + key + ' button');\n",
              "      quickchartButtonEl.disabled = true;  // To prevent multiple clicks.\n",
              "      quickchartButtonEl.classList.add('colab-df-spinner');\n",
              "      try {\n",
              "        const charts = await google.colab.kernel.invokeFunction(\n",
              "            'suggestCharts', [key], {});\n",
              "      } catch (error) {\n",
              "        console.error('Error during call to suggestCharts:', error);\n",
              "      }\n",
              "      quickchartButtonEl.classList.remove('colab-df-spinner');\n",
              "      quickchartButtonEl.classList.add('colab-df-quickchart-complete');\n",
              "    }\n",
              "    (() => {\n",
              "      let quickchartButtonEl =\n",
              "        document.querySelector('#df-4439108f-f97f-4e06-97db-3cf321c7ef75 button');\n",
              "      quickchartButtonEl.style.display =\n",
              "        google.colab.kernel.accessAllowed ? 'block' : 'none';\n",
              "    })();\n",
              "  </script>\n",
              "</div>\n",
              "\n",
              "    </div>\n",
              "  </div>\n"
            ],
            "application/vnd.google.colaboratory.intrinsic+json": {
              "type": "dataframe"
            }
          },
          "metadata": {},
          "execution_count": 16
        },
        {
          "output_type": "stream",
          "name": "stdout",
          "text": [
            "Warning: Total number of columns (23) exceeds max_columns (20) limiting to first (20) columns.\n"
          ]
        }
      ]
    },
    {
      "cell_type": "code",
      "source": [
        "# Últimas linhas\n",
        "df.tail()"
      ],
      "metadata": {
        "id": "8Ho_fIVF5trm",
        "colab": {
          "base_uri": "https://localhost:8080/",
          "height": 671
        },
        "outputId": "907d95d2-e7fc-43c7-841b-cfe92344f4f8"
      },
      "execution_count": 17,
      "outputs": [
        {
          "output_type": "error",
          "ename": "ValueError",
          "evalue": "Mismatched dtypes found in `pd.read_csv`/`pd.read_table`.\n\n+----------------+---------+----------+\n| Column         | Found   | Expected |\n+----------------+---------+----------+\n| CRSElapsedTime | float64 | int64    |\n| TailNum        | object  | float64  |\n+----------------+---------+----------+\n\nThe following columns also raised exceptions on conversion:\n\n- TailNum\n  ValueError(\"could not convert string to float: 'N54711'\")\n\nUsually this is due to dask's dtype inference failing, and\n*may* be fixed by specifying dtypes manually by adding:\n\ndtype={'CRSElapsedTime': 'float64',\n       'TailNum': 'object'}\n\nto the call to `read_csv`/`read_table`.",
          "traceback": [
            "\u001b[0;31m---------------------------------------------------------------------------\u001b[0m",
            "\u001b[0;31mValueError\u001b[0m                                Traceback (most recent call last)",
            "\u001b[0;32m<ipython-input-17-ffb86f54ae84>\u001b[0m in \u001b[0;36m<cell line: 2>\u001b[0;34m()\u001b[0m\n\u001b[1;32m      1\u001b[0m \u001b[0;31m# Últimas linhas\u001b[0m\u001b[0;34m\u001b[0m\u001b[0;34m\u001b[0m\u001b[0m\n\u001b[0;32m----> 2\u001b[0;31m \u001b[0mdf\u001b[0m\u001b[0;34m.\u001b[0m\u001b[0mtail\u001b[0m\u001b[0;34m(\u001b[0m\u001b[0;34m)\u001b[0m\u001b[0;34m\u001b[0m\u001b[0;34m\u001b[0m\u001b[0m\n\u001b[0m",
            "\u001b[0;32m/usr/local/lib/python3.10/dist-packages/dask_expr/_collection.py\u001b[0m in \u001b[0;36mtail\u001b[0;34m(self, n, compute)\u001b[0m\n\u001b[1;32m    711\u001b[0m         \u001b[0mout\u001b[0m \u001b[0;34m=\u001b[0m \u001b[0mnew_collection\u001b[0m\u001b[0;34m(\u001b[0m\u001b[0mexpr\u001b[0m\u001b[0;34m.\u001b[0m\u001b[0mTail\u001b[0m\u001b[0;34m(\u001b[0m\u001b[0mself\u001b[0m\u001b[0;34m,\u001b[0m \u001b[0mn\u001b[0m\u001b[0;34m=\u001b[0m\u001b[0mn\u001b[0m\u001b[0;34m)\u001b[0m\u001b[0;34m)\u001b[0m\u001b[0;34m\u001b[0m\u001b[0;34m\u001b[0m\u001b[0m\n\u001b[1;32m    712\u001b[0m         \u001b[0;32mif\u001b[0m \u001b[0mcompute\u001b[0m\u001b[0;34m:\u001b[0m\u001b[0;34m\u001b[0m\u001b[0;34m\u001b[0m\u001b[0m\n\u001b[0;32m--> 713\u001b[0;31m             \u001b[0mout\u001b[0m \u001b[0;34m=\u001b[0m \u001b[0mout\u001b[0m\u001b[0;34m.\u001b[0m\u001b[0mcompute\u001b[0m\u001b[0;34m(\u001b[0m\u001b[0;34m)\u001b[0m\u001b[0;34m\u001b[0m\u001b[0;34m\u001b[0m\u001b[0m\n\u001b[0m\u001b[1;32m    714\u001b[0m         \u001b[0;32mreturn\u001b[0m \u001b[0mout\u001b[0m\u001b[0;34m\u001b[0m\u001b[0;34m\u001b[0m\u001b[0m\n\u001b[1;32m    715\u001b[0m \u001b[0;34m\u001b[0m\u001b[0m\n",
            "\u001b[0;32m/usr/local/lib/python3.10/dist-packages/dask_expr/_collection.py\u001b[0m in \u001b[0;36mcompute\u001b[0;34m(self, fuse, **kwargs)\u001b[0m\n\u001b[1;32m    475\u001b[0m             \u001b[0mout\u001b[0m \u001b[0;34m=\u001b[0m \u001b[0mout\u001b[0m\u001b[0;34m.\u001b[0m\u001b[0mrepartition\u001b[0m\u001b[0;34m(\u001b[0m\u001b[0mnpartitions\u001b[0m\u001b[0;34m=\u001b[0m\u001b[0;36m1\u001b[0m\u001b[0;34m)\u001b[0m\u001b[0;34m\u001b[0m\u001b[0;34m\u001b[0m\u001b[0m\n\u001b[1;32m    476\u001b[0m         \u001b[0mout\u001b[0m \u001b[0;34m=\u001b[0m \u001b[0mout\u001b[0m\u001b[0;34m.\u001b[0m\u001b[0moptimize\u001b[0m\u001b[0;34m(\u001b[0m\u001b[0mfuse\u001b[0m\u001b[0;34m=\u001b[0m\u001b[0mfuse\u001b[0m\u001b[0;34m)\u001b[0m\u001b[0;34m\u001b[0m\u001b[0;34m\u001b[0m\u001b[0m\n\u001b[0;32m--> 477\u001b[0;31m         \u001b[0;32mreturn\u001b[0m \u001b[0mDaskMethodsMixin\u001b[0m\u001b[0;34m.\u001b[0m\u001b[0mcompute\u001b[0m\u001b[0;34m(\u001b[0m\u001b[0mout\u001b[0m\u001b[0;34m,\u001b[0m \u001b[0;34m**\u001b[0m\u001b[0mkwargs\u001b[0m\u001b[0;34m)\u001b[0m\u001b[0;34m\u001b[0m\u001b[0;34m\u001b[0m\u001b[0m\n\u001b[0m\u001b[1;32m    478\u001b[0m \u001b[0;34m\u001b[0m\u001b[0m\n\u001b[1;32m    479\u001b[0m     \u001b[0;32mdef\u001b[0m \u001b[0manalyze\u001b[0m\u001b[0;34m(\u001b[0m\u001b[0mself\u001b[0m\u001b[0;34m,\u001b[0m \u001b[0mfilename\u001b[0m\u001b[0;34m:\u001b[0m \u001b[0mstr\u001b[0m \u001b[0;34m|\u001b[0m \u001b[0;32mNone\u001b[0m \u001b[0;34m=\u001b[0m \u001b[0;32mNone\u001b[0m\u001b[0;34m,\u001b[0m \u001b[0mformat\u001b[0m\u001b[0;34m:\u001b[0m \u001b[0mstr\u001b[0m \u001b[0;34m|\u001b[0m \u001b[0;32mNone\u001b[0m \u001b[0;34m=\u001b[0m \u001b[0;32mNone\u001b[0m\u001b[0;34m)\u001b[0m \u001b[0;34m->\u001b[0m \u001b[0;32mNone\u001b[0m\u001b[0;34m:\u001b[0m\u001b[0;34m\u001b[0m\u001b[0;34m\u001b[0m\u001b[0m\n",
            "\u001b[0;32m/usr/local/lib/python3.10/dist-packages/dask/base.py\u001b[0m in \u001b[0;36mcompute\u001b[0;34m(self, **kwargs)\u001b[0m\n\u001b[1;32m    374\u001b[0m         \u001b[0mdask\u001b[0m\u001b[0;34m.\u001b[0m\u001b[0mcompute\u001b[0m\u001b[0;34m\u001b[0m\u001b[0;34m\u001b[0m\u001b[0m\n\u001b[1;32m    375\u001b[0m         \"\"\"\n\u001b[0;32m--> 376\u001b[0;31m         \u001b[0;34m(\u001b[0m\u001b[0mresult\u001b[0m\u001b[0;34m,\u001b[0m\u001b[0;34m)\u001b[0m \u001b[0;34m=\u001b[0m \u001b[0mcompute\u001b[0m\u001b[0;34m(\u001b[0m\u001b[0mself\u001b[0m\u001b[0;34m,\u001b[0m \u001b[0mtraverse\u001b[0m\u001b[0;34m=\u001b[0m\u001b[0;32mFalse\u001b[0m\u001b[0;34m,\u001b[0m \u001b[0;34m**\u001b[0m\u001b[0mkwargs\u001b[0m\u001b[0;34m)\u001b[0m\u001b[0;34m\u001b[0m\u001b[0;34m\u001b[0m\u001b[0m\n\u001b[0m\u001b[1;32m    377\u001b[0m         \u001b[0;32mreturn\u001b[0m \u001b[0mresult\u001b[0m\u001b[0;34m\u001b[0m\u001b[0;34m\u001b[0m\u001b[0m\n\u001b[1;32m    378\u001b[0m \u001b[0;34m\u001b[0m\u001b[0m\n",
            "\u001b[0;32m/usr/local/lib/python3.10/dist-packages/dask/base.py\u001b[0m in \u001b[0;36mcompute\u001b[0;34m(traverse, optimize_graph, scheduler, get, *args, **kwargs)\u001b[0m\n\u001b[1;32m    662\u001b[0m \u001b[0;34m\u001b[0m\u001b[0m\n\u001b[1;32m    663\u001b[0m     \u001b[0;32mwith\u001b[0m \u001b[0mshorten_traceback\u001b[0m\u001b[0;34m(\u001b[0m\u001b[0;34m)\u001b[0m\u001b[0;34m:\u001b[0m\u001b[0;34m\u001b[0m\u001b[0;34m\u001b[0m\u001b[0m\n\u001b[0;32m--> 664\u001b[0;31m         \u001b[0mresults\u001b[0m \u001b[0;34m=\u001b[0m \u001b[0mschedule\u001b[0m\u001b[0;34m(\u001b[0m\u001b[0mdsk\u001b[0m\u001b[0;34m,\u001b[0m \u001b[0mkeys\u001b[0m\u001b[0;34m,\u001b[0m \u001b[0;34m**\u001b[0m\u001b[0mkwargs\u001b[0m\u001b[0;34m)\u001b[0m\u001b[0;34m\u001b[0m\u001b[0;34m\u001b[0m\u001b[0m\n\u001b[0m\u001b[1;32m    665\u001b[0m \u001b[0;34m\u001b[0m\u001b[0m\n\u001b[1;32m    666\u001b[0m     \u001b[0;32mreturn\u001b[0m \u001b[0mrepack\u001b[0m\u001b[0;34m(\u001b[0m\u001b[0;34m[\u001b[0m\u001b[0mf\u001b[0m\u001b[0;34m(\u001b[0m\u001b[0mr\u001b[0m\u001b[0;34m,\u001b[0m \u001b[0;34m*\u001b[0m\u001b[0ma\u001b[0m\u001b[0;34m)\u001b[0m \u001b[0;32mfor\u001b[0m \u001b[0mr\u001b[0m\u001b[0;34m,\u001b[0m \u001b[0;34m(\u001b[0m\u001b[0mf\u001b[0m\u001b[0;34m,\u001b[0m \u001b[0ma\u001b[0m\u001b[0;34m)\u001b[0m \u001b[0;32min\u001b[0m \u001b[0mzip\u001b[0m\u001b[0;34m(\u001b[0m\u001b[0mresults\u001b[0m\u001b[0;34m,\u001b[0m \u001b[0mpostcomputes\u001b[0m\u001b[0;34m)\u001b[0m\u001b[0;34m]\u001b[0m\u001b[0;34m)\u001b[0m\u001b[0;34m\u001b[0m\u001b[0;34m\u001b[0m\u001b[0m\n",
            "\u001b[0;32m/usr/local/lib/python3.10/dist-packages/dask_expr/_expr.py\u001b[0m in \u001b[0;36m_execute_task\u001b[0;34m(graph, name, *deps)\u001b[0m\n\u001b[1;32m   3763\u001b[0m         \u001b[0;32mfor\u001b[0m \u001b[0mi\u001b[0m\u001b[0;34m,\u001b[0m \u001b[0mdep\u001b[0m \u001b[0;32min\u001b[0m \u001b[0menumerate\u001b[0m\u001b[0;34m(\u001b[0m\u001b[0mdeps\u001b[0m\u001b[0;34m)\u001b[0m\u001b[0;34m:\u001b[0m\u001b[0;34m\u001b[0m\u001b[0;34m\u001b[0m\u001b[0m\n\u001b[1;32m   3764\u001b[0m             \u001b[0mgraph\u001b[0m\u001b[0;34m[\u001b[0m\u001b[0;34m\"_\"\u001b[0m \u001b[0;34m+\u001b[0m \u001b[0mstr\u001b[0m\u001b[0;34m(\u001b[0m\u001b[0mi\u001b[0m\u001b[0;34m)\u001b[0m\u001b[0;34m]\u001b[0m \u001b[0;34m=\u001b[0m \u001b[0mdep\u001b[0m\u001b[0;34m\u001b[0m\u001b[0;34m\u001b[0m\u001b[0m\n\u001b[0;32m-> 3765\u001b[0;31m         \u001b[0;32mreturn\u001b[0m \u001b[0mdask\u001b[0m\u001b[0;34m.\u001b[0m\u001b[0mcore\u001b[0m\u001b[0;34m.\u001b[0m\u001b[0mget\u001b[0m\u001b[0;34m(\u001b[0m\u001b[0mgraph\u001b[0m\u001b[0;34m,\u001b[0m \u001b[0mname\u001b[0m\u001b[0;34m)\u001b[0m\u001b[0;34m\u001b[0m\u001b[0;34m\u001b[0m\u001b[0m\n\u001b[0m\u001b[1;32m   3766\u001b[0m \u001b[0;34m\u001b[0m\u001b[0m\n\u001b[1;32m   3767\u001b[0m \u001b[0;34m\u001b[0m\u001b[0m\n",
            "\u001b[0;32m/usr/local/lib/python3.10/dist-packages/dask/dataframe/io/csv.py\u001b[0m in \u001b[0;36m__call__\u001b[0;34m(self, part)\u001b[0m\n\u001b[1;32m    140\u001b[0m \u001b[0;34m\u001b[0m\u001b[0m\n\u001b[1;32m    141\u001b[0m         \u001b[0;31m# Call `pandas_read_text`\u001b[0m\u001b[0;34m\u001b[0m\u001b[0;34m\u001b[0m\u001b[0m\n\u001b[0;32m--> 142\u001b[0;31m         df = pandas_read_text(\n\u001b[0m\u001b[1;32m    143\u001b[0m             \u001b[0mself\u001b[0m\u001b[0;34m.\u001b[0m\u001b[0mreader\u001b[0m\u001b[0;34m,\u001b[0m\u001b[0;34m\u001b[0m\u001b[0;34m\u001b[0m\u001b[0m\n\u001b[1;32m    144\u001b[0m             \u001b[0mblock\u001b[0m\u001b[0;34m,\u001b[0m\u001b[0;34m\u001b[0m\u001b[0;34m\u001b[0m\u001b[0m\n",
            "\u001b[0;32m/usr/local/lib/python3.10/dist-packages/dask/dataframe/io/csv.py\u001b[0m in \u001b[0;36mpandas_read_text\u001b[0;34m(reader, b, header, kwargs, dtypes, columns, write_header, enforce, path)\u001b[0m\n\u001b[1;32m    195\u001b[0m     \u001b[0mdf\u001b[0m \u001b[0;34m=\u001b[0m \u001b[0mreader\u001b[0m\u001b[0;34m(\u001b[0m\u001b[0mbio\u001b[0m\u001b[0;34m,\u001b[0m \u001b[0;34m**\u001b[0m\u001b[0mkwargs\u001b[0m\u001b[0;34m)\u001b[0m\u001b[0;34m\u001b[0m\u001b[0;34m\u001b[0m\u001b[0m\n\u001b[1;32m    196\u001b[0m     \u001b[0;32mif\u001b[0m \u001b[0mdtypes\u001b[0m\u001b[0;34m:\u001b[0m\u001b[0;34m\u001b[0m\u001b[0;34m\u001b[0m\u001b[0m\n\u001b[0;32m--> 197\u001b[0;31m         \u001b[0mcoerce_dtypes\u001b[0m\u001b[0;34m(\u001b[0m\u001b[0mdf\u001b[0m\u001b[0;34m,\u001b[0m \u001b[0mdtypes\u001b[0m\u001b[0;34m)\u001b[0m\u001b[0;34m\u001b[0m\u001b[0;34m\u001b[0m\u001b[0m\n\u001b[0m\u001b[1;32m    198\u001b[0m \u001b[0;34m\u001b[0m\u001b[0m\n\u001b[1;32m    199\u001b[0m     \u001b[0;32mif\u001b[0m \u001b[0menforce\u001b[0m \u001b[0;32mand\u001b[0m \u001b[0mcolumns\u001b[0m \u001b[0;32mand\u001b[0m \u001b[0;34m(\u001b[0m\u001b[0mlist\u001b[0m\u001b[0;34m(\u001b[0m\u001b[0mdf\u001b[0m\u001b[0;34m.\u001b[0m\u001b[0mcolumns\u001b[0m\u001b[0;34m)\u001b[0m \u001b[0;34m!=\u001b[0m \u001b[0mlist\u001b[0m\u001b[0;34m(\u001b[0m\u001b[0mcolumns\u001b[0m\u001b[0;34m)\u001b[0m\u001b[0;34m)\u001b[0m\u001b[0;34m:\u001b[0m\u001b[0;34m\u001b[0m\u001b[0;34m\u001b[0m\u001b[0m\n",
            "\u001b[0;32m/usr/local/lib/python3.10/dist-packages/dask/dataframe/io/csv.py\u001b[0m in \u001b[0;36mcoerce_dtypes\u001b[0;34m(df, dtypes)\u001b[0m\n\u001b[1;32m    296\u001b[0m             \u001b[0mrule\u001b[0m\u001b[0;34m.\u001b[0m\u001b[0mjoin\u001b[0m\u001b[0;34m(\u001b[0m\u001b[0mfilter\u001b[0m\u001b[0;34m(\u001b[0m\u001b[0;32mNone\u001b[0m\u001b[0;34m,\u001b[0m \u001b[0;34m[\u001b[0m\u001b[0mdtype_msg\u001b[0m\u001b[0;34m,\u001b[0m \u001b[0mdate_msg\u001b[0m\u001b[0;34m]\u001b[0m\u001b[0;34m)\u001b[0m\u001b[0;34m)\u001b[0m\u001b[0;34m\u001b[0m\u001b[0;34m\u001b[0m\u001b[0m\n\u001b[1;32m    297\u001b[0m         )\n\u001b[0;32m--> 298\u001b[0;31m         \u001b[0;32mraise\u001b[0m \u001b[0mValueError\u001b[0m\u001b[0;34m(\u001b[0m\u001b[0mmsg\u001b[0m\u001b[0;34m)\u001b[0m\u001b[0;34m\u001b[0m\u001b[0;34m\u001b[0m\u001b[0m\n\u001b[0m\u001b[1;32m    299\u001b[0m \u001b[0;34m\u001b[0m\u001b[0m\n\u001b[1;32m    300\u001b[0m \u001b[0;34m\u001b[0m\u001b[0m\n",
            "\u001b[0;31mValueError\u001b[0m: Mismatched dtypes found in `pd.read_csv`/`pd.read_table`.\n\n+----------------+---------+----------+\n| Column         | Found   | Expected |\n+----------------+---------+----------+\n| CRSElapsedTime | float64 | int64    |\n| TailNum        | object  | float64  |\n+----------------+---------+----------+\n\nThe following columns also raised exceptions on conversion:\n\n- TailNum\n  ValueError(\"could not convert string to float: 'N54711'\")\n\nUsually this is due to dask's dtype inference failing, and\n*may* be fixed by specifying dtypes manually by adding:\n\ndtype={'CRSElapsedTime': 'float64',\n       'TailNum': 'object'}\n\nto the call to `read_csv`/`read_table`."
          ]
        }
      ]
    },
    {
      "cell_type": "markdown",
      "source": [
        "\n",
        "Ao contrário do pandas.read_csv, que lê o arquivo inteiro antes de inferir os tipos de dados, dask.dataframe.read_csv lê apenas uma amostra do início do arquivo (ou do primeiro arquivo, se estiver usando um glob). Esses tipos de dados inferidos são então aplicados ao ler todas as partições."
      ],
      "metadata": {
        "id": "bcsKylWl5ua-"
      }
    },
    {
      "cell_type": "code",
      "source": [
        "df = ddf.read_csv(\"data/nycflights/*.csv\",\n",
        "                  dtype = {\"TailNum\": str,\n",
        "                           \"CRSElapsedTime\": float,\n",
        "                           \"Cancelled\": bool})"
      ],
      "metadata": {
        "id": "svGpok2IsvZ8"
      },
      "execution_count": 18,
      "outputs": []
    },
    {
      "cell_type": "code",
      "source": [
        "non_cancelled = df[~df[\"Cancelled\"]]"
      ],
      "metadata": {
        "id": "jPuiXMXEswhz"
      },
      "execution_count": 19,
      "outputs": []
    },
    {
      "cell_type": "code",
      "source": [
        "mean_delay = non_cancelled[\"DepDelay\"].mean()\n",
        "std_delay = non_cancelled[\"DepDelay\"].std()"
      ],
      "metadata": {
        "id": "QJLCBuNGsyhE"
      },
      "execution_count": 20,
      "outputs": []
    },
    {
      "cell_type": "code",
      "source": [
        "%%time\n",
        "mean_delay_result = mean_delay.compute()\n",
        "print(mean_delay_result)"
      ],
      "metadata": {
        "id": "9mQUBJbns1CE",
        "colab": {
          "base_uri": "https://localhost:8080/"
        },
        "outputId": "edf1f00f-7788-4a62-a797-8a6f9386b0c2"
      },
      "execution_count": 21,
      "outputs": [
        {
          "output_type": "stream",
          "name": "stdout",
          "text": [
            "9.206602541321965\n",
            "CPU times: user 4.08 s, sys: 236 ms, total: 4.32 s\n",
            "Wall time: 2.37 s\n"
          ]
        }
      ]
    },
    {
      "cell_type": "code",
      "source": [
        "%%time\n",
        "std_delay_result = std_delay.compute()\n",
        "print(std_delay_result)"
      ],
      "metadata": {
        "id": "H7XhqAlPs3ds",
        "colab": {
          "base_uri": "https://localhost:8080/"
        },
        "outputId": "9c5e77b2-3b6f-40c8-c9ee-05c996811299"
      },
      "execution_count": 22,
      "outputs": [
        {
          "output_type": "stream",
          "name": "stdout",
          "text": [
            "28.974539774551456\n",
            "CPU times: user 3.95 s, sys: 212 ms, total: 4.16 s\n",
            "Wall time: 2.34 s\n"
          ]
        }
      ]
    },
    {
      "cell_type": "code",
      "source": [
        "mean_delay.visualize()"
      ],
      "metadata": {
        "id": "KUlbZHVOs6A8",
        "colab": {
          "base_uri": "https://localhost:8080/",
          "height": 579
        },
        "outputId": "3be44ba5-f59b-45d8-a38b-632b37be2479"
      },
      "execution_count": 23,
      "outputs": [
        {
          "output_type": "execute_result",
          "data": {
            "image/svg+xml": "<?xml version=\"1.0\" encoding=\"UTF-8\" standalone=\"no\"?>\n<!DOCTYPE svg PUBLIC \"-//W3C//DTD SVG 1.1//EN\"\n \"http://www.w3.org/Graphics/SVG/1.1/DTD/svg11.dtd\">\n<!-- Generated by graphviz version 2.43.0 (0)\n -->\n<!-- Title: %3 Pages: 1 -->\n<svg width=\"399pt\" height=\"404pt\"\n viewBox=\"0.00 0.00 399.00 404.00\" xmlns=\"http://www.w3.org/2000/svg\" xmlns:xlink=\"http://www.w3.org/1999/xlink\">\n<g id=\"graph0\" class=\"graph\" transform=\"scale(1 1) rotate(0) translate(4 400)\">\n<title>%3</title>\n<polygon fill=\"white\" stroke=\"transparent\" points=\"-4,4 -4,-400 395,-400 395,4 -4,4\"/>\n<!-- 4483351282157612009 -->\n<g id=\"node1\" class=\"node\">\n<title>4483351282157612009</title>\n<polygon fill=\"none\" stroke=\"black\" points=\"215,-396 45,-396 45,-360 215,-360 215,-396\"/>\n<text text-anchor=\"middle\" x=\"130\" y=\"-373\" font-family=\"Helvetica,sans-Serif\" font-size=\"20.00\">Mean(Projection)</text>\n</g>\n<!-- &#45;7337740785366789858 -->\n<g id=\"node2\" class=\"node\">\n<title>&#45;7337740785366789858</title>\n<polygon fill=\"none\" stroke=\"black\" points=\"260,-324 0,-324 0,-288 260,-288 260,-324\"/>\n<text text-anchor=\"middle\" x=\"130\" y=\"-301\" font-family=\"Helvetica,sans-Serif\" font-size=\"20.00\">Projection(Filter, DepDelay)</text>\n</g>\n<!-- &#45;7337740785366789858&#45;&gt;4483351282157612009 -->\n<g id=\"edge1\" class=\"edge\">\n<title>&#45;7337740785366789858&#45;&gt;4483351282157612009</title>\n<path fill=\"none\" stroke=\"black\" d=\"M130,-324.3C130,-332.02 130,-341.29 130,-349.89\"/>\n<polygon fill=\"black\" stroke=\"black\" points=\"126.5,-349.9 130,-359.9 133.5,-349.9 126.5,-349.9\"/>\n</g>\n<!-- &#45;5343095440778732069 -->\n<g id=\"node3\" class=\"node\">\n<title>&#45;5343095440778732069</title>\n<polygon fill=\"none\" stroke=\"black\" points=\"240.5,-252 19.5,-252 19.5,-216 240.5,-216 240.5,-252\"/>\n<text text-anchor=\"middle\" x=\"130\" y=\"-229\" font-family=\"Helvetica,sans-Serif\" font-size=\"20.00\">Filter(ReadCSV, Invert)</text>\n</g>\n<!-- &#45;5343095440778732069&#45;&gt;&#45;7337740785366789858 -->\n<g id=\"edge2\" class=\"edge\">\n<title>&#45;5343095440778732069&#45;&gt;&#45;7337740785366789858</title>\n<path fill=\"none\" stroke=\"black\" d=\"M130,-252.3C130,-260.02 130,-269.29 130,-277.89\"/>\n<polygon fill=\"black\" stroke=\"black\" points=\"126.5,-277.9 130,-287.9 133.5,-277.9 126.5,-277.9\"/>\n</g>\n<!-- &#45;5825779733132886507 -->\n<g id=\"node4\" class=\"node\">\n<title>&#45;5825779733132886507</title>\n<polygon fill=\"none\" stroke=\"black\" points=\"287.5,-180 118.5,-180 118.5,-144 287.5,-144 287.5,-180\"/>\n<text text-anchor=\"middle\" x=\"203\" y=\"-157\" font-family=\"Helvetica,sans-Serif\" font-size=\"20.00\">Invert(Projection)</text>\n</g>\n<!-- &#45;5825779733132886507&#45;&gt;&#45;5343095440778732069 -->\n<g id=\"edge4\" class=\"edge\">\n<title>&#45;5825779733132886507&#45;&gt;&#45;5343095440778732069</title>\n<path fill=\"none\" stroke=\"black\" d=\"M184.96,-180.3C175.94,-188.95 164.88,-199.55 155.06,-208.97\"/>\n<polygon fill=\"black\" stroke=\"black\" points=\"152.63,-206.45 147.84,-215.9 157.48,-211.5 152.63,-206.45\"/>\n</g>\n<!-- 7828695448586016455 -->\n<g id=\"node5\" class=\"node\">\n<title>7828695448586016455</title>\n<polygon fill=\"none\" stroke=\"black\" points=\"391,-108 85,-108 85,-72 391,-72 391,-108\"/>\n<text text-anchor=\"middle\" x=\"238\" y=\"-85\" font-family=\"Helvetica,sans-Serif\" font-size=\"20.00\">Projection(ReadCSV, Cancelled)</text>\n</g>\n<!-- 7828695448586016455&#45;&gt;&#45;5825779733132886507 -->\n<g id=\"edge5\" class=\"edge\">\n<title>7828695448586016455&#45;&gt;&#45;5825779733132886507</title>\n<path fill=\"none\" stroke=\"black\" d=\"M229.35,-108.3C225.36,-116.27 220.55,-125.9 216.13,-134.74\"/>\n<polygon fill=\"black\" stroke=\"black\" points=\"212.89,-133.39 211.55,-143.9 219.15,-136.52 212.89,-133.39\"/>\n</g>\n<!-- 814534950813875921 -->\n<g id=\"node6\" class=\"node\">\n<title>814534950813875921</title>\n<polygon fill=\"none\" stroke=\"black\" points=\"200,-36 94,-36 94,0 200,0 200,-36\"/>\n<text text-anchor=\"middle\" x=\"147\" y=\"-13\" font-family=\"Helvetica,sans-Serif\" font-size=\"20.00\">ReadCSV</text>\n</g>\n<!-- 814534950813875921&#45;&gt;&#45;5343095440778732069 -->\n<g id=\"edge3\" class=\"edge\">\n<title>814534950813875921&#45;&gt;&#45;5343095440778732069</title>\n<path fill=\"none\" stroke=\"black\" d=\"M111.83,-36.06C98.02,-44.75 83.65,-56.74 76,-72 53.07,-117.72 86.02,-175.42 109.65,-207.86\"/>\n<polygon fill=\"black\" stroke=\"black\" points=\"106.9,-210.03 115.71,-215.92 112.5,-205.83 106.9,-210.03\"/>\n</g>\n<!-- 814534950813875921&#45;&gt;7828695448586016455 -->\n<g id=\"edge6\" class=\"edge\">\n<title>814534950813875921&#45;&gt;7828695448586016455</title>\n<path fill=\"none\" stroke=\"black\" d=\"M169.49,-36.3C180.96,-45.12 195.06,-55.97 207.48,-65.53\"/>\n<polygon fill=\"black\" stroke=\"black\" points=\"205.7,-68.57 215.76,-71.9 209.97,-63.02 205.7,-68.57\"/>\n</g>\n</g>\n</svg>\n",
            "text/plain": [
              "<graphviz.graphs.Digraph at 0x786ecda43880>"
            ]
          },
          "metadata": {},
          "execution_count": 23
        }
      ]
    },
    {
      "cell_type": "code",
      "source": [
        "std_delay.visualize()"
      ],
      "metadata": {
        "id": "ev2IRZYss8zs",
        "colab": {
          "base_uri": "https://localhost:8080/",
          "height": 675
        },
        "outputId": "872c918d-e053-4308-c2cb-d6add46b364a"
      },
      "execution_count": 24,
      "outputs": [
        {
          "output_type": "execute_result",
          "data": {
            "image/svg+xml": "<?xml version=\"1.0\" encoding=\"UTF-8\" standalone=\"no\"?>\n<!DOCTYPE svg PUBLIC \"-//W3C//DTD SVG 1.1//EN\"\n \"http://www.w3.org/Graphics/SVG/1.1/DTD/svg11.dtd\">\n<!-- Generated by graphviz version 2.43.0 (0)\n -->\n<!-- Title: %3 Pages: 1 -->\n<svg width=\"399pt\" height=\"476pt\"\n viewBox=\"0.00 0.00 399.00 476.00\" xmlns=\"http://www.w3.org/2000/svg\" xmlns:xlink=\"http://www.w3.org/1999/xlink\">\n<g id=\"graph0\" class=\"graph\" transform=\"scale(1 1) rotate(0) translate(4 472)\">\n<title>%3</title>\n<polygon fill=\"white\" stroke=\"transparent\" points=\"-4,4 -4,-472 395,-472 395,4 -4,4\"/>\n<!-- &#45;3808322306254486415 -->\n<g id=\"node1\" class=\"node\">\n<title>&#45;3808322306254486415</title>\n<polygon fill=\"none\" stroke=\"black\" points=\"221,-468 39,-468 39,-432 221,-432 221,-468\"/>\n<text text-anchor=\"middle\" x=\"130\" y=\"-445\" font-family=\"Helvetica,sans-Serif\" font-size=\"20.00\">MapPartitions(Var)</text>\n</g>\n<!-- 3625030459830553825 -->\n<g id=\"node2\" class=\"node\">\n<title>3625030459830553825</title>\n<polygon fill=\"none\" stroke=\"black\" points=\"204.5,-396 55.5,-396 55.5,-360 204.5,-360 204.5,-396\"/>\n<text text-anchor=\"middle\" x=\"130\" y=\"-373\" font-family=\"Helvetica,sans-Serif\" font-size=\"20.00\">Var(Projection)</text>\n</g>\n<!-- 3625030459830553825&#45;&gt;&#45;3808322306254486415 -->\n<g id=\"edge1\" class=\"edge\">\n<title>3625030459830553825&#45;&gt;&#45;3808322306254486415</title>\n<path fill=\"none\" stroke=\"black\" d=\"M130,-396.3C130,-404.02 130,-413.29 130,-421.89\"/>\n<polygon fill=\"black\" stroke=\"black\" points=\"126.5,-421.9 130,-431.9 133.5,-421.9 126.5,-421.9\"/>\n</g>\n<!-- &#45;7337740785366789858 -->\n<g id=\"node3\" class=\"node\">\n<title>&#45;7337740785366789858</title>\n<polygon fill=\"none\" stroke=\"black\" points=\"260,-324 0,-324 0,-288 260,-288 260,-324\"/>\n<text text-anchor=\"middle\" x=\"130\" y=\"-301\" font-family=\"Helvetica,sans-Serif\" font-size=\"20.00\">Projection(Filter, DepDelay)</text>\n</g>\n<!-- &#45;7337740785366789858&#45;&gt;3625030459830553825 -->\n<g id=\"edge2\" class=\"edge\">\n<title>&#45;7337740785366789858&#45;&gt;3625030459830553825</title>\n<path fill=\"none\" stroke=\"black\" d=\"M130,-324.3C130,-332.02 130,-341.29 130,-349.89\"/>\n<polygon fill=\"black\" stroke=\"black\" points=\"126.5,-349.9 130,-359.9 133.5,-349.9 126.5,-349.9\"/>\n</g>\n<!-- &#45;5343095440778732069 -->\n<g id=\"node4\" class=\"node\">\n<title>&#45;5343095440778732069</title>\n<polygon fill=\"none\" stroke=\"black\" points=\"240.5,-252 19.5,-252 19.5,-216 240.5,-216 240.5,-252\"/>\n<text text-anchor=\"middle\" x=\"130\" y=\"-229\" font-family=\"Helvetica,sans-Serif\" font-size=\"20.00\">Filter(ReadCSV, Invert)</text>\n</g>\n<!-- &#45;5343095440778732069&#45;&gt;&#45;7337740785366789858 -->\n<g id=\"edge3\" class=\"edge\">\n<title>&#45;5343095440778732069&#45;&gt;&#45;7337740785366789858</title>\n<path fill=\"none\" stroke=\"black\" d=\"M130,-252.3C130,-260.02 130,-269.29 130,-277.89\"/>\n<polygon fill=\"black\" stroke=\"black\" points=\"126.5,-277.9 130,-287.9 133.5,-277.9 126.5,-277.9\"/>\n</g>\n<!-- &#45;5825779733132886507 -->\n<g id=\"node5\" class=\"node\">\n<title>&#45;5825779733132886507</title>\n<polygon fill=\"none\" stroke=\"black\" points=\"287.5,-180 118.5,-180 118.5,-144 287.5,-144 287.5,-180\"/>\n<text text-anchor=\"middle\" x=\"203\" y=\"-157\" font-family=\"Helvetica,sans-Serif\" font-size=\"20.00\">Invert(Projection)</text>\n</g>\n<!-- &#45;5825779733132886507&#45;&gt;&#45;5343095440778732069 -->\n<g id=\"edge5\" class=\"edge\">\n<title>&#45;5825779733132886507&#45;&gt;&#45;5343095440778732069</title>\n<path fill=\"none\" stroke=\"black\" d=\"M184.96,-180.3C175.94,-188.95 164.88,-199.55 155.06,-208.97\"/>\n<polygon fill=\"black\" stroke=\"black\" points=\"152.63,-206.45 147.84,-215.9 157.48,-211.5 152.63,-206.45\"/>\n</g>\n<!-- 7828695448586016455 -->\n<g id=\"node6\" class=\"node\">\n<title>7828695448586016455</title>\n<polygon fill=\"none\" stroke=\"black\" points=\"391,-108 85,-108 85,-72 391,-72 391,-108\"/>\n<text text-anchor=\"middle\" x=\"238\" y=\"-85\" font-family=\"Helvetica,sans-Serif\" font-size=\"20.00\">Projection(ReadCSV, Cancelled)</text>\n</g>\n<!-- 7828695448586016455&#45;&gt;&#45;5825779733132886507 -->\n<g id=\"edge6\" class=\"edge\">\n<title>7828695448586016455&#45;&gt;&#45;5825779733132886507</title>\n<path fill=\"none\" stroke=\"black\" d=\"M229.35,-108.3C225.36,-116.27 220.55,-125.9 216.13,-134.74\"/>\n<polygon fill=\"black\" stroke=\"black\" points=\"212.89,-133.39 211.55,-143.9 219.15,-136.52 212.89,-133.39\"/>\n</g>\n<!-- 814534950813875921 -->\n<g id=\"node7\" class=\"node\">\n<title>814534950813875921</title>\n<polygon fill=\"none\" stroke=\"black\" points=\"200,-36 94,-36 94,0 200,0 200,-36\"/>\n<text text-anchor=\"middle\" x=\"147\" y=\"-13\" font-family=\"Helvetica,sans-Serif\" font-size=\"20.00\">ReadCSV</text>\n</g>\n<!-- 814534950813875921&#45;&gt;&#45;5343095440778732069 -->\n<g id=\"edge4\" class=\"edge\">\n<title>814534950813875921&#45;&gt;&#45;5343095440778732069</title>\n<path fill=\"none\" stroke=\"black\" d=\"M111.83,-36.06C98.02,-44.75 83.65,-56.74 76,-72 53.07,-117.72 86.02,-175.42 109.65,-207.86\"/>\n<polygon fill=\"black\" stroke=\"black\" points=\"106.9,-210.03 115.71,-215.92 112.5,-205.83 106.9,-210.03\"/>\n</g>\n<!-- 814534950813875921&#45;&gt;7828695448586016455 -->\n<g id=\"edge7\" class=\"edge\">\n<title>814534950813875921&#45;&gt;7828695448586016455</title>\n<path fill=\"none\" stroke=\"black\" d=\"M169.49,-36.3C180.96,-45.12 195.06,-55.97 207.48,-65.53\"/>\n<polygon fill=\"black\" stroke=\"black\" points=\"205.7,-68.57 215.76,-71.9 209.97,-63.02 205.7,-68.57\"/>\n</g>\n</g>\n</svg>\n",
            "text/plain": [
              "<graphviz.graphs.Digraph at 0x786ecda404f0>"
            ]
          },
          "metadata": {},
          "execution_count": 24
        }
      ]
    },
    {
      "cell_type": "code",
      "source": [
        "import dask"
      ],
      "metadata": {
        "id": "N8rMeETls-o-"
      },
      "execution_count": 25,
      "outputs": []
    },
    {
      "cell_type": "code",
      "source": [
        "mean_delay_result, std_delay_result = dask.compute(mean_delay, std_delay)"
      ],
      "metadata": {
        "id": "zH0TmjtItBWj"
      },
      "execution_count": 26,
      "outputs": []
    },
    {
      "cell_type": "markdown",
      "source": [
        "## 4. Reescrevendo nosso primeiro exemplo com _futures_\n",
        "\n",
        "Uso comum:\n",
        "\n",
        "```python\n",
        "def process_file(filename):\n",
        "    data = read_a_file(filename)\n",
        "    data = do_a_transformation(data)\n",
        "    destination = f\"results/{filename}\"\n",
        "    write_out_data(data, destination)\n",
        "    return destination\n",
        "\n",
        "futures = []\n",
        "for filename in filenames:\n",
        "    future = client.submit(process_file, filename)\n",
        "    futures.append(future)\n",
        "\n",
        "futures\n",
        "\n",
        "```"
      ],
      "metadata": {
        "id": "HlZaJTTpAJde"
      }
    },
    {
      "cell_type": "code",
      "source": [
        "from time import sleep\n",
        "\n",
        "def inc(x):\n",
        "    sleep(1)\n",
        "    return x + 1\n",
        "\n",
        "def double(x):\n",
        "    sleep(2)\n",
        "    return 2 * x\n",
        "\n",
        "def add(x, y):\n",
        "    sleep(1)\n",
        "    return x + y"
      ],
      "metadata": {
        "id": "8pykfHMGANCB"
      },
      "execution_count": 27,
      "outputs": []
    },
    {
      "cell_type": "code",
      "source": [
        "# Iniciando um cluster dask com 4 executores\n",
        "from dask.distributed import Client\n",
        "\n",
        "client = Client(n_workers=4)\n",
        "client"
      ],
      "metadata": {
        "id": "rdu3AY4AAcPR",
        "colab": {
          "base_uri": "https://localhost:8080/",
          "height": 582
        },
        "collapsed": true,
        "outputId": "b666a491-8f30-4ed0-b150-150659a98f6c"
      },
      "execution_count": 28,
      "outputs": [
        {
          "output_type": "stream",
          "name": "stderr",
          "text": [
            "INFO:distributed.http.proxy:To route to workers diagnostics web server please install jupyter-server-proxy: python -m pip install jupyter-server-proxy\n",
            "INFO:distributed.scheduler:State start\n",
            "INFO:distributed.scheduler:  Scheduler at:     tcp://127.0.0.1:37115\n",
            "INFO:distributed.scheduler:  dashboard at:  http://127.0.0.1:8787/status\n",
            "INFO:distributed.scheduler:Registering Worker plugin shuffle\n",
            "INFO:distributed.nanny:        Start Nanny at: 'tcp://127.0.0.1:37187'\n",
            "INFO:distributed.nanny:        Start Nanny at: 'tcp://127.0.0.1:36537'\n",
            "INFO:distributed.nanny:        Start Nanny at: 'tcp://127.0.0.1:43661'\n",
            "INFO:distributed.nanny:        Start Nanny at: 'tcp://127.0.0.1:38513'\n",
            "INFO:distributed.scheduler:Register worker <WorkerState 'tcp://127.0.0.1:44481', name: 3, status: init, memory: 0, processing: 0>\n",
            "INFO:distributed.scheduler:Starting worker compute stream, tcp://127.0.0.1:44481\n",
            "INFO:distributed.core:Starting established connection to tcp://127.0.0.1:42192\n",
            "INFO:distributed.scheduler:Register worker <WorkerState 'tcp://127.0.0.1:32975', name: 0, status: init, memory: 0, processing: 0>\n",
            "INFO:distributed.scheduler:Starting worker compute stream, tcp://127.0.0.1:32975\n",
            "INFO:distributed.core:Starting established connection to tcp://127.0.0.1:42164\n",
            "INFO:distributed.scheduler:Register worker <WorkerState 'tcp://127.0.0.1:42953', name: 2, status: init, memory: 0, processing: 0>\n",
            "INFO:distributed.scheduler:Starting worker compute stream, tcp://127.0.0.1:42953\n",
            "INFO:distributed.core:Starting established connection to tcp://127.0.0.1:42208\n",
            "INFO:distributed.scheduler:Register worker <WorkerState 'tcp://127.0.0.1:34605', name: 1, status: init, memory: 0, processing: 0>\n",
            "INFO:distributed.scheduler:Starting worker compute stream, tcp://127.0.0.1:34605\n",
            "INFO:distributed.core:Starting established connection to tcp://127.0.0.1:42176\n",
            "INFO:distributed.scheduler:Receive client connection: Client-1c906788-8d77-11ef-821f-0242ac1c000c\n",
            "INFO:distributed.core:Starting established connection to tcp://127.0.0.1:42214\n"
          ]
        },
        {
          "output_type": "execute_result",
          "data": {
            "text/plain": [
              "<Client: 'tcp://127.0.0.1:37115' processes=4 threads=4, memory=12.67 GiB>"
            ],
            "text/html": [
              "<div>\n",
              "    <div style=\"width: 24px; height: 24px; background-color: #e1e1e1; border: 3px solid #9D9D9D; border-radius: 5px; position: absolute;\"> </div>\n",
              "    <div style=\"margin-left: 48px;\">\n",
              "        <h3 style=\"margin-bottom: 0px;\">Client</h3>\n",
              "        <p style=\"color: #9D9D9D; margin-bottom: 0px;\">Client-1c906788-8d77-11ef-821f-0242ac1c000c</p>\n",
              "        <table style=\"width: 100%; text-align: left;\">\n",
              "\n",
              "        <tr>\n",
              "        \n",
              "            <td style=\"text-align: left;\"><strong>Connection method:</strong> Cluster object</td>\n",
              "            <td style=\"text-align: left;\"><strong>Cluster type:</strong> distributed.LocalCluster</td>\n",
              "        \n",
              "        </tr>\n",
              "\n",
              "        \n",
              "            <tr>\n",
              "                <td style=\"text-align: left;\">\n",
              "                    <strong>Dashboard: </strong> <a href=\"http://127.0.0.1:8787/status\" target=\"_blank\">http://127.0.0.1:8787/status</a>\n",
              "                </td>\n",
              "                <td style=\"text-align: left;\"></td>\n",
              "            </tr>\n",
              "        \n",
              "\n",
              "        </table>\n",
              "\n",
              "        \n",
              "\n",
              "        \n",
              "            <details>\n",
              "            <summary style=\"margin-bottom: 20px;\"><h3 style=\"display: inline;\">Cluster Info</h3></summary>\n",
              "            <div class=\"jp-RenderedHTMLCommon jp-RenderedHTML jp-mod-trusted jp-OutputArea-output\">\n",
              "    <div style=\"width: 24px; height: 24px; background-color: #e1e1e1; border: 3px solid #9D9D9D; border-radius: 5px; position: absolute;\">\n",
              "    </div>\n",
              "    <div style=\"margin-left: 48px;\">\n",
              "        <h3 style=\"margin-bottom: 0px; margin-top: 0px;\">LocalCluster</h3>\n",
              "        <p style=\"color: #9D9D9D; margin-bottom: 0px;\">143f1ed4</p>\n",
              "        <table style=\"width: 100%; text-align: left;\">\n",
              "            <tr>\n",
              "                <td style=\"text-align: left;\">\n",
              "                    <strong>Dashboard:</strong> <a href=\"http://127.0.0.1:8787/status\" target=\"_blank\">http://127.0.0.1:8787/status</a>\n",
              "                </td>\n",
              "                <td style=\"text-align: left;\">\n",
              "                    <strong>Workers:</strong> 4\n",
              "                </td>\n",
              "            </tr>\n",
              "            <tr>\n",
              "                <td style=\"text-align: left;\">\n",
              "                    <strong>Total threads:</strong> 4\n",
              "                </td>\n",
              "                <td style=\"text-align: left;\">\n",
              "                    <strong>Total memory:</strong> 12.67 GiB\n",
              "                </td>\n",
              "            </tr>\n",
              "            \n",
              "            <tr>\n",
              "    <td style=\"text-align: left;\"><strong>Status:</strong> running</td>\n",
              "    <td style=\"text-align: left;\"><strong>Using processes:</strong> True</td>\n",
              "</tr>\n",
              "\n",
              "            \n",
              "        </table>\n",
              "\n",
              "        <details>\n",
              "            <summary style=\"margin-bottom: 20px;\">\n",
              "                <h3 style=\"display: inline;\">Scheduler Info</h3>\n",
              "            </summary>\n",
              "\n",
              "            <div style=\"\">\n",
              "    <div>\n",
              "        <div style=\"width: 24px; height: 24px; background-color: #FFF7E5; border: 3px solid #FF6132; border-radius: 5px; position: absolute;\"> </div>\n",
              "        <div style=\"margin-left: 48px;\">\n",
              "            <h3 style=\"margin-bottom: 0px;\">Scheduler</h3>\n",
              "            <p style=\"color: #9D9D9D; margin-bottom: 0px;\">Scheduler-1678a378-9171-4cef-a85e-77ef7bd8caa8</p>\n",
              "            <table style=\"width: 100%; text-align: left;\">\n",
              "                <tr>\n",
              "                    <td style=\"text-align: left;\">\n",
              "                        <strong>Comm:</strong> tcp://127.0.0.1:37115\n",
              "                    </td>\n",
              "                    <td style=\"text-align: left;\">\n",
              "                        <strong>Workers:</strong> 4\n",
              "                    </td>\n",
              "                </tr>\n",
              "                <tr>\n",
              "                    <td style=\"text-align: left;\">\n",
              "                        <strong>Dashboard:</strong> <a href=\"http://127.0.0.1:8787/status\" target=\"_blank\">http://127.0.0.1:8787/status</a>\n",
              "                    </td>\n",
              "                    <td style=\"text-align: left;\">\n",
              "                        <strong>Total threads:</strong> 4\n",
              "                    </td>\n",
              "                </tr>\n",
              "                <tr>\n",
              "                    <td style=\"text-align: left;\">\n",
              "                        <strong>Started:</strong> Just now\n",
              "                    </td>\n",
              "                    <td style=\"text-align: left;\">\n",
              "                        <strong>Total memory:</strong> 12.67 GiB\n",
              "                    </td>\n",
              "                </tr>\n",
              "            </table>\n",
              "        </div>\n",
              "    </div>\n",
              "\n",
              "    <details style=\"margin-left: 48px;\">\n",
              "        <summary style=\"margin-bottom: 20px;\">\n",
              "            <h3 style=\"display: inline;\">Workers</h3>\n",
              "        </summary>\n",
              "\n",
              "        \n",
              "        <div style=\"margin-bottom: 20px;\">\n",
              "            <div style=\"width: 24px; height: 24px; background-color: #DBF5FF; border: 3px solid #4CC9FF; border-radius: 5px; position: absolute;\"> </div>\n",
              "            <div style=\"margin-left: 48px;\">\n",
              "            <details>\n",
              "                <summary>\n",
              "                    <h4 style=\"margin-bottom: 0px; display: inline;\">Worker: 0</h4>\n",
              "                </summary>\n",
              "                <table style=\"width: 100%; text-align: left;\">\n",
              "                    <tr>\n",
              "                        <td style=\"text-align: left;\">\n",
              "                            <strong>Comm: </strong> tcp://127.0.0.1:32975\n",
              "                        </td>\n",
              "                        <td style=\"text-align: left;\">\n",
              "                            <strong>Total threads: </strong> 1\n",
              "                        </td>\n",
              "                    </tr>\n",
              "                    <tr>\n",
              "                        <td style=\"text-align: left;\">\n",
              "                            <strong>Dashboard: </strong> <a href=\"http://127.0.0.1:42491/status\" target=\"_blank\">http://127.0.0.1:42491/status</a>\n",
              "                        </td>\n",
              "                        <td style=\"text-align: left;\">\n",
              "                            <strong>Memory: </strong> 3.17 GiB\n",
              "                        </td>\n",
              "                    </tr>\n",
              "                    <tr>\n",
              "                        <td style=\"text-align: left;\">\n",
              "                            <strong>Nanny: </strong> tcp://127.0.0.1:37187\n",
              "                        </td>\n",
              "                        <td style=\"text-align: left;\"></td>\n",
              "                    </tr>\n",
              "                    <tr>\n",
              "                        <td colspan=\"2\" style=\"text-align: left;\">\n",
              "                            <strong>Local directory: </strong> /tmp/dask-scratch-space/worker-f4ixe9q9\n",
              "                        </td>\n",
              "                    </tr>\n",
              "\n",
              "                    \n",
              "\n",
              "                    \n",
              "\n",
              "                </table>\n",
              "            </details>\n",
              "            </div>\n",
              "        </div>\n",
              "        \n",
              "        <div style=\"margin-bottom: 20px;\">\n",
              "            <div style=\"width: 24px; height: 24px; background-color: #DBF5FF; border: 3px solid #4CC9FF; border-radius: 5px; position: absolute;\"> </div>\n",
              "            <div style=\"margin-left: 48px;\">\n",
              "            <details>\n",
              "                <summary>\n",
              "                    <h4 style=\"margin-bottom: 0px; display: inline;\">Worker: 1</h4>\n",
              "                </summary>\n",
              "                <table style=\"width: 100%; text-align: left;\">\n",
              "                    <tr>\n",
              "                        <td style=\"text-align: left;\">\n",
              "                            <strong>Comm: </strong> tcp://127.0.0.1:34605\n",
              "                        </td>\n",
              "                        <td style=\"text-align: left;\">\n",
              "                            <strong>Total threads: </strong> 1\n",
              "                        </td>\n",
              "                    </tr>\n",
              "                    <tr>\n",
              "                        <td style=\"text-align: left;\">\n",
              "                            <strong>Dashboard: </strong> <a href=\"http://127.0.0.1:45853/status\" target=\"_blank\">http://127.0.0.1:45853/status</a>\n",
              "                        </td>\n",
              "                        <td style=\"text-align: left;\">\n",
              "                            <strong>Memory: </strong> 3.17 GiB\n",
              "                        </td>\n",
              "                    </tr>\n",
              "                    <tr>\n",
              "                        <td style=\"text-align: left;\">\n",
              "                            <strong>Nanny: </strong> tcp://127.0.0.1:36537\n",
              "                        </td>\n",
              "                        <td style=\"text-align: left;\"></td>\n",
              "                    </tr>\n",
              "                    <tr>\n",
              "                        <td colspan=\"2\" style=\"text-align: left;\">\n",
              "                            <strong>Local directory: </strong> /tmp/dask-scratch-space/worker-nunwe8v9\n",
              "                        </td>\n",
              "                    </tr>\n",
              "\n",
              "                    \n",
              "\n",
              "                    \n",
              "\n",
              "                </table>\n",
              "            </details>\n",
              "            </div>\n",
              "        </div>\n",
              "        \n",
              "        <div style=\"margin-bottom: 20px;\">\n",
              "            <div style=\"width: 24px; height: 24px; background-color: #DBF5FF; border: 3px solid #4CC9FF; border-radius: 5px; position: absolute;\"> </div>\n",
              "            <div style=\"margin-left: 48px;\">\n",
              "            <details>\n",
              "                <summary>\n",
              "                    <h4 style=\"margin-bottom: 0px; display: inline;\">Worker: 2</h4>\n",
              "                </summary>\n",
              "                <table style=\"width: 100%; text-align: left;\">\n",
              "                    <tr>\n",
              "                        <td style=\"text-align: left;\">\n",
              "                            <strong>Comm: </strong> tcp://127.0.0.1:42953\n",
              "                        </td>\n",
              "                        <td style=\"text-align: left;\">\n",
              "                            <strong>Total threads: </strong> 1\n",
              "                        </td>\n",
              "                    </tr>\n",
              "                    <tr>\n",
              "                        <td style=\"text-align: left;\">\n",
              "                            <strong>Dashboard: </strong> <a href=\"http://127.0.0.1:35989/status\" target=\"_blank\">http://127.0.0.1:35989/status</a>\n",
              "                        </td>\n",
              "                        <td style=\"text-align: left;\">\n",
              "                            <strong>Memory: </strong> 3.17 GiB\n",
              "                        </td>\n",
              "                    </tr>\n",
              "                    <tr>\n",
              "                        <td style=\"text-align: left;\">\n",
              "                            <strong>Nanny: </strong> tcp://127.0.0.1:43661\n",
              "                        </td>\n",
              "                        <td style=\"text-align: left;\"></td>\n",
              "                    </tr>\n",
              "                    <tr>\n",
              "                        <td colspan=\"2\" style=\"text-align: left;\">\n",
              "                            <strong>Local directory: </strong> /tmp/dask-scratch-space/worker-7x_2y10n\n",
              "                        </td>\n",
              "                    </tr>\n",
              "\n",
              "                    \n",
              "\n",
              "                    \n",
              "\n",
              "                </table>\n",
              "            </details>\n",
              "            </div>\n",
              "        </div>\n",
              "        \n",
              "        <div style=\"margin-bottom: 20px;\">\n",
              "            <div style=\"width: 24px; height: 24px; background-color: #DBF5FF; border: 3px solid #4CC9FF; border-radius: 5px; position: absolute;\"> </div>\n",
              "            <div style=\"margin-left: 48px;\">\n",
              "            <details>\n",
              "                <summary>\n",
              "                    <h4 style=\"margin-bottom: 0px; display: inline;\">Worker: 3</h4>\n",
              "                </summary>\n",
              "                <table style=\"width: 100%; text-align: left;\">\n",
              "                    <tr>\n",
              "                        <td style=\"text-align: left;\">\n",
              "                            <strong>Comm: </strong> tcp://127.0.0.1:44481\n",
              "                        </td>\n",
              "                        <td style=\"text-align: left;\">\n",
              "                            <strong>Total threads: </strong> 1\n",
              "                        </td>\n",
              "                    </tr>\n",
              "                    <tr>\n",
              "                        <td style=\"text-align: left;\">\n",
              "                            <strong>Dashboard: </strong> <a href=\"http://127.0.0.1:40489/status\" target=\"_blank\">http://127.0.0.1:40489/status</a>\n",
              "                        </td>\n",
              "                        <td style=\"text-align: left;\">\n",
              "                            <strong>Memory: </strong> 3.17 GiB\n",
              "                        </td>\n",
              "                    </tr>\n",
              "                    <tr>\n",
              "                        <td style=\"text-align: left;\">\n",
              "                            <strong>Nanny: </strong> tcp://127.0.0.1:38513\n",
              "                        </td>\n",
              "                        <td style=\"text-align: left;\"></td>\n",
              "                    </tr>\n",
              "                    <tr>\n",
              "                        <td colspan=\"2\" style=\"text-align: left;\">\n",
              "                            <strong>Local directory: </strong> /tmp/dask-scratch-space/worker-61r1plgg\n",
              "                        </td>\n",
              "                    </tr>\n",
              "\n",
              "                    \n",
              "\n",
              "                    \n",
              "\n",
              "                </table>\n",
              "            </details>\n",
              "            </div>\n",
              "        </div>\n",
              "        \n",
              "\n",
              "    </details>\n",
              "</div>\n",
              "\n",
              "        </details>\n",
              "    </div>\n",
              "</div>\n",
              "            </details>\n",
              "        \n",
              "\n",
              "    </div>\n",
              "</div>"
            ]
          },
          "metadata": {},
          "execution_count": 28
        }
      ]
    },
    {
      "cell_type": "markdown",
      "source": [
        "Rodando localmente"
      ],
      "metadata": {
        "id": "O1zRdBetAndu"
      }
    },
    {
      "cell_type": "code",
      "source": [
        "double(9)"
      ],
      "metadata": {
        "id": "F4MtcrnvAfr5",
        "colab": {
          "base_uri": "https://localhost:8080/"
        },
        "outputId": "550ddd1e-8de6-46d5-8a50-965537bb3ba9"
      },
      "execution_count": 29,
      "outputs": [
        {
          "output_type": "execute_result",
          "data": {
            "text/plain": [
              "18"
            ]
          },
          "metadata": {},
          "execution_count": 29
        }
      ]
    },
    {
      "cell_type": "markdown",
      "source": [
        "Ou podemos enviá-los para execução remota com Dask. Isso retorna imediatamente um futuro que aponta para a computação em andamento e, eventualmente, para o resultado armazenado."
      ],
      "metadata": {
        "id": "RrZe4WzKApc1"
      }
    },
    {
      "cell_type": "code",
      "source": [
        "future = client.submit(double, 9)\n",
        "future"
      ],
      "metadata": {
        "id": "_wbFii7yAlkZ",
        "colab": {
          "base_uri": "https://localhost:8080/",
          "height": 54
        },
        "outputId": "4b4e2818-5263-41c1-f51e-89831ea4faa2"
      },
      "execution_count": 30,
      "outputs": [
        {
          "output_type": "execute_result",
          "data": {
            "text/plain": [
              "<Future: pending, key: double-a6be9e5e4acfbdc22c89d9486a3e74d6>"
            ],
            "text/html": [
              "<strong>Future: double</strong>\n",
              "<span style=\"color: var(--jp-ui-font-color2, gray)\"> status: </span>\n",
              "\n",
              "\n",
              "<span style=\"color: var(--jp-error-color0, black)\">pending</span>,\n",
              "\n",
              "\n",
              "\n",
              "<span style=\"color: var(--jp-ui-font-color2, gray)\"> type:</span> NoneType,\n",
              "\n",
              "\n",
              "<span style=\"color: var(--jp-ui-font-color2, gray)\"> key:</span> double-a6be9e5e4acfbdc22c89d9486a3e74d6"
            ]
          },
          "metadata": {},
          "execution_count": 30
        }
      ]
    },
    {
      "cell_type": "code",
      "source": [
        "# Após algum tempo, estará executado!\n",
        "future"
      ],
      "metadata": {
        "id": "70PiggD0AyFJ",
        "colab": {
          "base_uri": "https://localhost:8080/",
          "height": 54
        },
        "outputId": "15a7fe45-ee7c-4cd8-e558-ab8070796433"
      },
      "execution_count": 31,
      "outputs": [
        {
          "output_type": "execute_result",
          "data": {
            "text/plain": [
              "<Future: finished, type: int, key: double-a6be9e5e4acfbdc22c89d9486a3e74d6>"
            ],
            "text/html": [
              "<strong>Future: double</strong>\n",
              "<span style=\"color: var(--jp-ui-font-color2, gray)\"> status: </span>\n",
              "\n",
              "\n",
              "<span style=\"color: var(--jp-error-color0, black)\">finished</span>,\n",
              "\n",
              "\n",
              "\n",
              "<span style=\"color: var(--jp-ui-font-color2, gray)\"> type:</span> int,\n",
              "\n",
              "\n",
              "<span style=\"color: var(--jp-ui-font-color2, gray)\"> key:</span> double-a6be9e5e4acfbdc22c89d9486a3e74d6"
            ]
          },
          "metadata": {},
          "execution_count": 31
        }
      ]
    },
    {
      "cell_type": "code",
      "source": [
        "# E qual é o resultado?\n",
        "future.result()"
      ],
      "metadata": {
        "id": "Q9FFyucRA1QB",
        "colab": {
          "base_uri": "https://localhost:8080/"
        },
        "outputId": "df136dd4-a798-420a-de10-79e4e5d75929"
      },
      "execution_count": 32,
      "outputs": [
        {
          "output_type": "execute_result",
          "data": {
            "text/plain": [
              "18"
            ]
          },
          "metadata": {},
          "execution_count": 32
        }
      ]
    },
    {
      "cell_type": "markdown",
      "source": [
        "**Por que usar Futures?**\n",
        "\n",
        "A API de futuros oferece um estilo de envio de trabalho que pode facilmente emular o paradigma mapear/reduzir. Se isso lhe é familiar, então os futuros podem ser o ponto de entrada mais simples no Dask.\n",
        "\n",
        "O outro grande benefício dos futuros é que os resultados intermediários, representados pelos futuros, podem ser passados para novas tarefas sem a necessidade de extrair dados localmente do cluster. Novas operações podem ser configuradas para trabalhar na produção de trabalhos anteriores que ainda nem começaram."
      ],
      "metadata": {
        "id": "6mdvG-k2BTcH"
      }
    },
    {
      "cell_type": "markdown",
      "source": [
        "## 5. [Exercícios] Cálculos em cima de Dask DataFrames\n",
        "\n",
        "Continue utilizando os arquivos \"data/nycflights/*.csv\". Resolva as seguintes questões:\n",
        "\n",
        "  a. Qual é o atraso Médio na Chegada por Transportadora\n",
        "\n",
        "  b. Top 5 Rotas mais Curtas: rotas com a menor distância média\n",
        "\n",
        "  c. Dias da Semana com Mais Voos\n",
        "\n",
        "  d. Identificar Voos com Maior Atraso de Chegada\n",
        "\n",
        "  e. Análise de Correlação entre Atraso na Partida e Chegada\n"
      ],
      "metadata": {
        "id": "4JImodV5B2rK"
      }
    },
    {
      "cell_type": "code",
      "source": [
        "# a)\n",
        "arr_delay_mean = df.groupby(\"UniqueCarrier\").ArrDelay.mean()\n",
        "arr_delay_mean.compute()"
      ],
      "metadata": {
        "id": "gXopT3_6C3hB",
        "colab": {
          "base_uri": "https://localhost:8080/",
          "height": 480
        },
        "outputId": "c02a9a3f-d06d-4a88-feeb-ae79c86c72c6"
      },
      "execution_count": 45,
      "outputs": [
        {
          "output_type": "execute_result",
          "data": {
            "text/plain": [
              "UniqueCarrier\n",
              "AA         5.963033\n",
              "CO         9.762624\n",
              "DL         7.961324\n",
              "EA         5.435499\n",
              "HP        14.221614\n",
              "NW         6.216828\n",
              "PA (1)    -0.814996\n",
              "TW         9.378095\n",
              "UA         6.562766\n",
              "US         8.018115\n",
              "ML (1)     5.720821\n",
              "Name: ArrDelay, dtype: float64"
            ],
            "text/html": [
              "<div>\n",
              "<style scoped>\n",
              "    .dataframe tbody tr th:only-of-type {\n",
              "        vertical-align: middle;\n",
              "    }\n",
              "\n",
              "    .dataframe tbody tr th {\n",
              "        vertical-align: top;\n",
              "    }\n",
              "\n",
              "    .dataframe thead th {\n",
              "        text-align: right;\n",
              "    }\n",
              "</style>\n",
              "<table border=\"1\" class=\"dataframe\">\n",
              "  <thead>\n",
              "    <tr style=\"text-align: right;\">\n",
              "      <th></th>\n",
              "      <th>ArrDelay</th>\n",
              "    </tr>\n",
              "    <tr>\n",
              "      <th>UniqueCarrier</th>\n",
              "      <th></th>\n",
              "    </tr>\n",
              "  </thead>\n",
              "  <tbody>\n",
              "    <tr>\n",
              "      <th>AA</th>\n",
              "      <td>5.963033</td>\n",
              "    </tr>\n",
              "    <tr>\n",
              "      <th>CO</th>\n",
              "      <td>9.762624</td>\n",
              "    </tr>\n",
              "    <tr>\n",
              "      <th>DL</th>\n",
              "      <td>7.961324</td>\n",
              "    </tr>\n",
              "    <tr>\n",
              "      <th>EA</th>\n",
              "      <td>5.435499</td>\n",
              "    </tr>\n",
              "    <tr>\n",
              "      <th>HP</th>\n",
              "      <td>14.221614</td>\n",
              "    </tr>\n",
              "    <tr>\n",
              "      <th>NW</th>\n",
              "      <td>6.216828</td>\n",
              "    </tr>\n",
              "    <tr>\n",
              "      <th>PA (1)</th>\n",
              "      <td>-0.814996</td>\n",
              "    </tr>\n",
              "    <tr>\n",
              "      <th>TW</th>\n",
              "      <td>9.378095</td>\n",
              "    </tr>\n",
              "    <tr>\n",
              "      <th>UA</th>\n",
              "      <td>6.562766</td>\n",
              "    </tr>\n",
              "    <tr>\n",
              "      <th>US</th>\n",
              "      <td>8.018115</td>\n",
              "    </tr>\n",
              "    <tr>\n",
              "      <th>ML (1)</th>\n",
              "      <td>5.720821</td>\n",
              "    </tr>\n",
              "  </tbody>\n",
              "</table>\n",
              "</div><br><label><b>dtype:</b> float64</label>"
            ]
          },
          "metadata": {},
          "execution_count": 45
        }
      ]
    },
    {
      "cell_type": "code",
      "source": [
        "# b)\n",
        "shortest_routes = df.groupby([\"Origin\", \"Dest\"]).Distance.mean()\n",
        "shortest_routes.compute().sort_values()[:5]"
      ],
      "metadata": {
        "id": "t3knfWvhJJof",
        "colab": {
          "base_uri": "https://localhost:8080/",
          "height": 292
        },
        "outputId": "34538f0d-cbc7-49f2-e254-8a40f8666f96"
      },
      "execution_count": 41,
      "outputs": [
        {
          "output_type": "execute_result",
          "data": {
            "text/plain": [
              "Origin  Dest\n",
              "JFK     LGA     11.0\n",
              "LGA     JFK     11.0\n",
              "EWR     LGA     17.0\n",
              "LGA     EWR     17.0\n",
              "EWR     JFK     21.0\n",
              "Name: Distance, dtype: float64"
            ],
            "text/html": [
              "<div>\n",
              "<style scoped>\n",
              "    .dataframe tbody tr th:only-of-type {\n",
              "        vertical-align: middle;\n",
              "    }\n",
              "\n",
              "    .dataframe tbody tr th {\n",
              "        vertical-align: top;\n",
              "    }\n",
              "\n",
              "    .dataframe thead th {\n",
              "        text-align: right;\n",
              "    }\n",
              "</style>\n",
              "<table border=\"1\" class=\"dataframe\">\n",
              "  <thead>\n",
              "    <tr style=\"text-align: right;\">\n",
              "      <th></th>\n",
              "      <th></th>\n",
              "      <th>Distance</th>\n",
              "    </tr>\n",
              "    <tr>\n",
              "      <th>Origin</th>\n",
              "      <th>Dest</th>\n",
              "      <th></th>\n",
              "    </tr>\n",
              "  </thead>\n",
              "  <tbody>\n",
              "    <tr>\n",
              "      <th>JFK</th>\n",
              "      <th>LGA</th>\n",
              "      <td>11.0</td>\n",
              "    </tr>\n",
              "    <tr>\n",
              "      <th>LGA</th>\n",
              "      <th>JFK</th>\n",
              "      <td>11.0</td>\n",
              "    </tr>\n",
              "    <tr>\n",
              "      <th>EWR</th>\n",
              "      <th>LGA</th>\n",
              "      <td>17.0</td>\n",
              "    </tr>\n",
              "    <tr>\n",
              "      <th>LGA</th>\n",
              "      <th>EWR</th>\n",
              "      <td>17.0</td>\n",
              "    </tr>\n",
              "    <tr>\n",
              "      <th>EWR</th>\n",
              "      <th>JFK</th>\n",
              "      <td>21.0</td>\n",
              "    </tr>\n",
              "  </tbody>\n",
              "</table>\n",
              "</div><br><label><b>dtype:</b> float64</label>"
            ]
          },
          "metadata": {},
          "execution_count": 41
        }
      ]
    },
    {
      "cell_type": "code",
      "source": [
        "# c)\n",
        "days_of_week = df.groupby(\"DayOfWeek\").FlightNum.count()\n",
        "days_of_week.compute().sort_values(ascending=False)"
      ],
      "metadata": {
        "id": "meNUTv-FJJuD",
        "colab": {
          "base_uri": "https://localhost:8080/",
          "height": 355
        },
        "outputId": "113f12cf-b783-4a87-bbb4-11159bbc2d48"
      },
      "execution_count": 44,
      "outputs": [
        {
          "output_type": "execute_result",
          "data": {
            "text/plain": [
              "DayOfWeek\n",
              "2    388912\n",
              "3    388042\n",
              "1    388011\n",
              "4    386116\n",
              "5    385544\n",
              "7    354688\n",
              "6    320579\n",
              "Name: FlightNum, dtype: int64"
            ],
            "text/html": [
              "<div>\n",
              "<style scoped>\n",
              "    .dataframe tbody tr th:only-of-type {\n",
              "        vertical-align: middle;\n",
              "    }\n",
              "\n",
              "    .dataframe tbody tr th {\n",
              "        vertical-align: top;\n",
              "    }\n",
              "\n",
              "    .dataframe thead th {\n",
              "        text-align: right;\n",
              "    }\n",
              "</style>\n",
              "<table border=\"1\" class=\"dataframe\">\n",
              "  <thead>\n",
              "    <tr style=\"text-align: right;\">\n",
              "      <th></th>\n",
              "      <th>FlightNum</th>\n",
              "    </tr>\n",
              "    <tr>\n",
              "      <th>DayOfWeek</th>\n",
              "      <th></th>\n",
              "    </tr>\n",
              "  </thead>\n",
              "  <tbody>\n",
              "    <tr>\n",
              "      <th>2</th>\n",
              "      <td>388912</td>\n",
              "    </tr>\n",
              "    <tr>\n",
              "      <th>3</th>\n",
              "      <td>388042</td>\n",
              "    </tr>\n",
              "    <tr>\n",
              "      <th>1</th>\n",
              "      <td>388011</td>\n",
              "    </tr>\n",
              "    <tr>\n",
              "      <th>4</th>\n",
              "      <td>386116</td>\n",
              "    </tr>\n",
              "    <tr>\n",
              "      <th>5</th>\n",
              "      <td>385544</td>\n",
              "    </tr>\n",
              "    <tr>\n",
              "      <th>7</th>\n",
              "      <td>354688</td>\n",
              "    </tr>\n",
              "    <tr>\n",
              "      <th>6</th>\n",
              "      <td>320579</td>\n",
              "    </tr>\n",
              "  </tbody>\n",
              "</table>\n",
              "</div><br><label><b>dtype:</b> int64</label>"
            ]
          },
          "metadata": {},
          "execution_count": 44
        }
      ]
    },
    {
      "cell_type": "code",
      "source": [
        "# d)\n",
        "arr_delay = df.ArrDelay\n",
        "arr_delay.compute().sort_values(ascending=False)[:20]"
      ],
      "metadata": {
        "id": "iv87asQFJJ55",
        "colab": {
          "base_uri": "https://localhost:8080/",
          "height": 731
        },
        "outputId": "5e63d258-3a76-46d9-8e53-45819c1f15ea"
      },
      "execution_count": 52,
      "outputs": [
        {
          "output_type": "execute_result",
          "data": {
            "text/plain": [
              "113197    1156.0\n",
              "26396     1090.0\n",
              "231322    1064.0\n",
              "160175    1057.0\n",
              "93017     1037.0\n",
              "122146    1031.0\n",
              "132025    1024.0\n",
              "167181    1021.0\n",
              "164023     993.0\n",
              "120176     991.0\n",
              "145334     988.0\n",
              "11020      978.0\n",
              "25182      965.0\n",
              "29335      960.0\n",
              "190872     956.0\n",
              "231918     954.0\n",
              "133830     950.0\n",
              "15032      947.0\n",
              "146654     945.0\n",
              "160903     943.0\n",
              "Name: ArrDelay, dtype: float64"
            ],
            "text/html": [
              "<div>\n",
              "<style scoped>\n",
              "    .dataframe tbody tr th:only-of-type {\n",
              "        vertical-align: middle;\n",
              "    }\n",
              "\n",
              "    .dataframe tbody tr th {\n",
              "        vertical-align: top;\n",
              "    }\n",
              "\n",
              "    .dataframe thead th {\n",
              "        text-align: right;\n",
              "    }\n",
              "</style>\n",
              "<table border=\"1\" class=\"dataframe\">\n",
              "  <thead>\n",
              "    <tr style=\"text-align: right;\">\n",
              "      <th></th>\n",
              "      <th>ArrDelay</th>\n",
              "    </tr>\n",
              "  </thead>\n",
              "  <tbody>\n",
              "    <tr>\n",
              "      <th>113197</th>\n",
              "      <td>1156.0</td>\n",
              "    </tr>\n",
              "    <tr>\n",
              "      <th>26396</th>\n",
              "      <td>1090.0</td>\n",
              "    </tr>\n",
              "    <tr>\n",
              "      <th>231322</th>\n",
              "      <td>1064.0</td>\n",
              "    </tr>\n",
              "    <tr>\n",
              "      <th>160175</th>\n",
              "      <td>1057.0</td>\n",
              "    </tr>\n",
              "    <tr>\n",
              "      <th>93017</th>\n",
              "      <td>1037.0</td>\n",
              "    </tr>\n",
              "    <tr>\n",
              "      <th>122146</th>\n",
              "      <td>1031.0</td>\n",
              "    </tr>\n",
              "    <tr>\n",
              "      <th>132025</th>\n",
              "      <td>1024.0</td>\n",
              "    </tr>\n",
              "    <tr>\n",
              "      <th>167181</th>\n",
              "      <td>1021.0</td>\n",
              "    </tr>\n",
              "    <tr>\n",
              "      <th>164023</th>\n",
              "      <td>993.0</td>\n",
              "    </tr>\n",
              "    <tr>\n",
              "      <th>120176</th>\n",
              "      <td>991.0</td>\n",
              "    </tr>\n",
              "    <tr>\n",
              "      <th>145334</th>\n",
              "      <td>988.0</td>\n",
              "    </tr>\n",
              "    <tr>\n",
              "      <th>11020</th>\n",
              "      <td>978.0</td>\n",
              "    </tr>\n",
              "    <tr>\n",
              "      <th>25182</th>\n",
              "      <td>965.0</td>\n",
              "    </tr>\n",
              "    <tr>\n",
              "      <th>29335</th>\n",
              "      <td>960.0</td>\n",
              "    </tr>\n",
              "    <tr>\n",
              "      <th>190872</th>\n",
              "      <td>956.0</td>\n",
              "    </tr>\n",
              "    <tr>\n",
              "      <th>231918</th>\n",
              "      <td>954.0</td>\n",
              "    </tr>\n",
              "    <tr>\n",
              "      <th>133830</th>\n",
              "      <td>950.0</td>\n",
              "    </tr>\n",
              "    <tr>\n",
              "      <th>15032</th>\n",
              "      <td>947.0</td>\n",
              "    </tr>\n",
              "    <tr>\n",
              "      <th>146654</th>\n",
              "      <td>945.0</td>\n",
              "    </tr>\n",
              "    <tr>\n",
              "      <th>160903</th>\n",
              "      <td>943.0</td>\n",
              "    </tr>\n",
              "  </tbody>\n",
              "</table>\n",
              "</div><br><label><b>dtype:</b> float64</label>"
            ]
          },
          "metadata": {},
          "execution_count": 52
        }
      ]
    },
    {
      "cell_type": "code",
      "source": [
        "# e)\n",
        "df[\"ArrDelay\"].corr(df[\"DepDelay\"]).compute()"
      ],
      "metadata": {
        "id": "NQI-wwNuJKBL",
        "colab": {
          "base_uri": "https://localhost:8080/"
        },
        "outputId": "2f44acdb-f756-45ba-f667-505d18752c30"
      },
      "execution_count": 53,
      "outputs": [
        {
          "output_type": "execute_result",
          "data": {
            "text/plain": [
              "0.8304247583395481"
            ]
          },
          "metadata": {},
          "execution_count": 53
        }
      ]
    }
  ]
}