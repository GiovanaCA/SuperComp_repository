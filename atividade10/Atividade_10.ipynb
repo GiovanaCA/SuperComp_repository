{
  "nbformat": 4,
  "nbformat_minor": 0,
  "metadata": {
    "colab": {
      "provenance": [],
      "gpuType": "T4"
    },
    "kernelspec": {
      "name": "python3",
      "display_name": "Python 3"
    },
    "language_info": {
      "name": "python"
    },
    "accelerator": "GPU"
  },
  "cells": [
    {
      "cell_type": "code",
      "execution_count": 1,
      "metadata": {
        "colab": {
          "base_uri": "https://localhost:8080/"
        },
        "id": "2jX9Gu46TP1T",
        "outputId": "3d19b4fb-dc80-4ce6-da88-c4e4934b0817"
      },
      "outputs": [
        {
          "output_type": "stream",
          "name": "stdout",
          "text": [
            "Tue Sep 17 14:57:44 2024       \n",
            "+---------------------------------------------------------------------------------------+\n",
            "| NVIDIA-SMI 535.104.05             Driver Version: 535.104.05   CUDA Version: 12.2     |\n",
            "|-----------------------------------------+----------------------+----------------------+\n",
            "| GPU  Name                 Persistence-M | Bus-Id        Disp.A | Volatile Uncorr. ECC |\n",
            "| Fan  Temp   Perf          Pwr:Usage/Cap |         Memory-Usage | GPU-Util  Compute M. |\n",
            "|                                         |                      |               MIG M. |\n",
            "|=========================================+======================+======================|\n",
            "|   0  Tesla T4                       Off | 00000000:00:04.0 Off |                    0 |\n",
            "| N/A   37C    P8              11W /  70W |      0MiB / 15360MiB |      0%      Default |\n",
            "|                                         |                      |                  N/A |\n",
            "+-----------------------------------------+----------------------+----------------------+\n",
            "                                                                                         \n",
            "+---------------------------------------------------------------------------------------+\n",
            "| Processes:                                                                            |\n",
            "|  GPU   GI   CI        PID   Type   Process name                            GPU Memory |\n",
            "|        ID   ID                                                             Usage      |\n",
            "|=======================================================================================|\n",
            "|  No running processes found                                                           |\n",
            "+---------------------------------------------------------------------------------------+\n"
          ]
        }
      ],
      "source": [
        "!nvidia-smi"
      ]
    },
    {
      "cell_type": "markdown",
      "source": [
        "# Supercomp - Atividade 10"
      ],
      "metadata": {
        "id": "ig8PfIPYTeq4"
      }
    },
    {
      "cell_type": "markdown",
      "source": [
        "## Exemplos"
      ],
      "metadata": {
        "id": "7uKktMPdYXl_"
      }
    },
    {
      "cell_type": "markdown",
      "source": [
        "EXEMPLO 1"
      ],
      "metadata": {
        "id": "gZNo7-sxW5JX"
      }
    },
    {
      "cell_type": "code",
      "source": [
        "%%writefile exemplo1.cu\n",
        "#include <thrust/device_vector.h> // Inclui a biblioteca para vetores na GPU (device)\n",
        "#include <thrust/host_vector.h>   // Inclui a biblioteca para vetores na CPU (host)\n",
        "#include <iostream>               // Biblioteca padrão para entrada e saída de dados\n",
        "\n",
        "int main() {\n",
        "    // Cria um vetor na CPU (host) com 5 elementos, todos inicializados com 0\n",
        "    thrust::host_vector<double> host(5, 0);\n",
        "    host[4] = 35; // Altera o último elemento do vetor para 35\n",
        "\n",
        "    /* Os dados do vetor 'host' são copiados para a GPU,\n",
        "       criando um vetor equivalente na GPU (device) */\n",
        "    thrust::device_vector<double> dev(host);\n",
        "\n",
        "    /* Altera o vetor na CPU, mas não afeta o vetor na GPU,\n",
        "       pois a cópia já foi feita anteriormente */\n",
        "    host[2] = 12; // Altera o terceiro elemento do vetor na CPU para 12\n",
        "\n",
        "    // Exibe os elementos do vetor na CPU\n",
        "    printf(\"Host vector: \");\n",
        "    for (auto i = host.begin(); i != host.end(); i++) {\n",
        "        std::cout << *i << \" \"; // Acesso rápido aos elementos na CPU\n",
        "    }\n",
        "    printf(\"\\n\");\n",
        "\n",
        "    // Exibe os elementos do vetor na GPU\n",
        "    printf(\"Device vector: \");\n",
        "    for (auto i = dev.begin(); i != dev.end(); i++) {\n",
        "        std::cout << *i << \" \"; // Acesso aos elementos na GPU é lento, pois os dados estão na GPU\n",
        "    }\n",
        "    printf(\"\\n\");\n",
        "}"
      ],
      "metadata": {
        "colab": {
          "base_uri": "https://localhost:8080/"
        },
        "id": "5UdS1uvzV1nN",
        "outputId": "b9d0460b-7b82-406b-87e1-d3cae57426ee"
      },
      "execution_count": 2,
      "outputs": [
        {
          "output_type": "stream",
          "name": "stdout",
          "text": [
            "Writing exemplo1.cu\n"
          ]
        }
      ]
    },
    {
      "cell_type": "code",
      "source": [
        "!nvcc -arch=sm_75 -std=c++14 exemplo1.cu -o exemplo1"
      ],
      "metadata": {
        "id": "oBZj4HF-UyUf"
      },
      "execution_count": 3,
      "outputs": []
    },
    {
      "cell_type": "code",
      "source": [
        "!./exemplo1"
      ],
      "metadata": {
        "colab": {
          "base_uri": "https://localhost:8080/"
        },
        "id": "xM-d_lXtV8GZ",
        "outputId": "838f13a9-f7a2-454b-eb35-a3475ff39c49"
      },
      "execution_count": 4,
      "outputs": [
        {
          "output_type": "stream",
          "name": "stdout",
          "text": [
            "Host vector: 0 0 12 0 35 \n",
            "Device vector: 0 0 0 0 35 \n"
          ]
        }
      ]
    },
    {
      "cell_type": "markdown",
      "source": [
        "EXEMPLO 2"
      ],
      "metadata": {
        "id": "M4Vi5FcZW76q"
      }
    },
    {
      "cell_type": "code",
      "source": [
        "%%writefile exemplo2.cu\n",
        "#include <thrust/device_vector.h>              // Inclui a biblioteca para vetores na GPU\n",
        "#include <thrust/host_vector.h>                // Inclui a biblioteca para vetores na CPU\n",
        "#include <thrust/sequence.h>                   // Inclui a função para preencher vetores com uma sequência de números\n",
        "#include <thrust/functional.h>                 // Inclui operações matemáticas padrão, como soma e multiplicação\n",
        "#include <thrust/transform.h>                  // Inclui a função para transformar vetores com operações ponto a ponto\n",
        "#include <thrust/iterator/constant_iterator.h> // Inclui o iterador constante necessário\n",
        "#include <iostream>\n",
        "\n",
        "int main() {\n",
        "    // Cria um vetor na GPU (device_vector) com 10 elementos, todos inicializados com 0\n",
        "    thrust::device_vector<double> V1(10, 0);\n",
        "    // Preenche V1 com uma sequência de números: {0, 1, 2, ..., 9}\n",
        "    thrust::sequence(V1.begin(), V1.end());\n",
        "\n",
        "    // Cria um vetor na GPU com 5 elementos, todos inicializados com 0\n",
        "    thrust::device_vector<double> V2(5, 0);\n",
        "    // Preenche os dois primeiros elementos de V2 com 5.5: {5.5, 5.5, 0, 0, 0}\n",
        "    thrust::fill(V2.begin(), V2.begin() + 2, 5.5);\n",
        "    // Preenche os elementos restantes de V2 com 10: {5.5, 5.5, 10, 10, 10}\n",
        "    thrust::fill(V2.begin() + 2, V2.end(), 10);\n",
        "\n",
        "    // Cria dois vetores na GPU com 10 elementos, para armazenar resultados das operações\n",
        "    thrust::device_vector<double> V3(10); // Vetor para armazenar o resultado da soma\n",
        "    thrust::device_vector<double> V4(10); // Vetor para armazenar o resultado da multiplicação\n",
        "\n",
        "    // Aplica a operação de soma elemento por elemento entre V1 e V2 e armazena o resultado em V3\n",
        "    // Como V2 tem menos elementos, o restante de V1 é somado com zeros (elemento padrão).\n",
        "    // Resultado: V3 = {0+5.5, 1+5.5, 2+10, 3+10, 4+10, 5+0, ..., 9+0}\n",
        "    thrust::transform(V1.begin(), V1.end(), V2.begin(), V3.begin(), thrust::plus<double>());\n",
        "\n",
        "    // Aplica multiplicação de V1 com o valor constante 0.5\n",
        "    // e armazenaria o resultado em V4.\n",
        "    thrust::transform(V1.begin(), V1.end(), thrust::constant_iterator<double>(0.5), V4.begin(), thrust::multiplies<double>());\n",
        "\n",
        "    // Imprime os elementos de V1\n",
        "    printf(\"V1: \");\n",
        "    for (thrust::device_vector<double>::iterator i = V1.begin(); i != V1.end(); i++) {\n",
        "        std::cout << *i << \" \"; // Acessa e imprime cada elemento do vetor V1\n",
        "    }\n",
        "    printf(\"\\n\");\n",
        "\n",
        "    // Imprime os elementos de V2\n",
        "    printf(\"V2: \");\n",
        "    for (thrust::device_vector<double>::iterator i = V2.begin(); i != V2.end(); i++) {\n",
        "        std::cout << *i << \" \"; // Acessa e imprime cada elemento do vetor V2\n",
        "    }\n",
        "    printf(\"\\n\");\n",
        "\n",
        "    // Imprime os elementos de V3\n",
        "    printf(\"V3: \");\n",
        "    for (thrust::device_vector<double>::iterator i = V3.begin(); i != V3.end(); i++) {\n",
        "        std::cout << *i << \" \"; // Acessa e imprime cada elemento do vetor V3\n",
        "    }\n",
        "    printf(\"\\n\");\n",
        "\n",
        "    // Imprime o vetor V4, que foi criado mas não utilizado.\n",
        "     printf(\"V4: \");\n",
        "    for (thrust::device_vector<double>::iterator i = V4.begin(); i != V4.end(); i++) {\n",
        "         std::cout << *i << \" \";\n",
        "    }\n",
        "    printf(\"\\n\");\n",
        "\n",
        "    return 0;\n",
        "}"
      ],
      "metadata": {
        "colab": {
          "base_uri": "https://localhost:8080/"
        },
        "id": "-vGOErCaV8c_",
        "outputId": "1580fb74-1ec4-41cc-bc25-cfebfb4a150b"
      },
      "execution_count": 5,
      "outputs": [
        {
          "output_type": "stream",
          "name": "stdout",
          "text": [
            "Writing exemplo2.cu\n"
          ]
        }
      ]
    },
    {
      "cell_type": "code",
      "source": [
        "!nvcc -arch=sm_75 -std=c++14 exemplo2.cu -o exemplo2"
      ],
      "metadata": {
        "id": "b4aWTcqPWqyu"
      },
      "execution_count": 6,
      "outputs": []
    },
    {
      "cell_type": "code",
      "source": [
        "!./exemplo2"
      ],
      "metadata": {
        "colab": {
          "base_uri": "https://localhost:8080/"
        },
        "id": "4cyc5ePJWr-u",
        "outputId": "99df8401-d7bc-4230-f658-c54bd041a128"
      },
      "execution_count": 7,
      "outputs": [
        {
          "output_type": "stream",
          "name": "stdout",
          "text": [
            "V1: 0 1 2 3 4 5 6 7 8 9 \n",
            "V2: 5.5 5.5 10 10 10 \n",
            "V3: 5.5 6.5 12 13 14 5 6 7 8 9 \n",
            "V4: 0 0.5 1 1.5 2 2.5 3 3.5 4 4.5 \n"
          ]
        }
      ]
    },
    {
      "cell_type": "markdown",
      "source": [
        "STOCKS"
      ],
      "metadata": {
        "id": "aoNwe0UnW-YK"
      }
    },
    {
      "cell_type": "code",
      "source": [
        "%%writefile stocks.cu\n",
        "#include <thrust/device_vector.h>   // Inclui a biblioteca Thrust para vetores na GPU\n",
        "#include <thrust/host_vector.h>     // Inclui a biblioteca Thrust para vetores na CPU\n",
        "#include <iostream>                 // Biblioteca padrão para entrada e saída de dados\n",
        "#include <chrono>                   // Biblioteca para medir o tempo de execução do código\n",
        "using namespace std;\n",
        "\n",
        "int main() {\n",
        "    int n = 2518;                   // Define o tamanho do vetor (2518 elementos)\n",
        "    double value = 0.0;             // Variável auxiliar para armazenar o valor lido da entrada\n",
        "    std::chrono::duration<double> diff; // Variável para armazenar a diferença de tempo calculada\n",
        "\n",
        "    // Marca o início da medição do tempo de leitura dos dados\n",
        "    auto leitura_i = std::chrono::steady_clock::now();\n",
        "\n",
        "    // Cria um vetor na CPU (host_vector) com n elementos, todos inicializados com 0\n",
        "    thrust::host_vector<double> host(n, 0);\n",
        "\n",
        "    // Loop para ler n valores da entrada padrão e armazená-los no vetor host\n",
        "    for (int i = 0; i < n; i++) {\n",
        "        cin >> value;              // Lê um valor da entrada padrão\n",
        "        host[i] = value;           // Armazena o valor lido no vetor host\n",
        "    }\n",
        "\n",
        "    // Marca o fim da medição do tempo de leitura dos dados\n",
        "    auto leitura_f = std::chrono::steady_clock::now();\n",
        "\n",
        "    // Calcula o tempo gasto na leitura dos dados\n",
        "    diff = leitura_f - leitura_i;\n",
        "\n",
        "    // Exibe o tempo de leitura em segundos\n",
        "    cout << \"Tempo de LEITURA (em segundos)  \" << diff.count() << endl;\n",
        "\n",
        "    // Marca o início da medição do tempo de cópia dos dados da CPU para a GPU\n",
        "    auto copia_i = std::chrono::steady_clock::now();\n",
        "\n",
        "    // Cria um vetor na GPU (device_vector) copiando os dados do vetor host da CPU\n",
        "    thrust::device_vector<double> dev(host);\n",
        "\n",
        "    // Marca o fim da medição do tempo de cópia dos dados\n",
        "    auto copia_f = std::chrono::steady_clock::now();\n",
        "\n",
        "    // Calcula o tempo gasto na cópia dos dados para a GPU\n",
        "    diff = copia_f - copia_i;\n",
        "\n",
        "    // Exibe o tempo de cópia em segundos\n",
        "    cout << \"Tempo de CÓPIA (em segundos)  \" << diff.count() << endl;\n",
        "\n",
        "    return 0;\n",
        "}"
      ],
      "metadata": {
        "colab": {
          "base_uri": "https://localhost:8080/"
        },
        "id": "H1eby1xjW2Uh",
        "outputId": "99ba8aea-fe91-49bf-f78d-e643d9134869"
      },
      "execution_count": 8,
      "outputs": [
        {
          "output_type": "stream",
          "name": "stdout",
          "text": [
            "Writing stocks.cu\n"
          ]
        }
      ]
    },
    {
      "cell_type": "code",
      "source": [
        "!nvcc -arch=sm_70 -std=c++14 stocks.cu -o stocks"
      ],
      "metadata": {
        "id": "lFuxjG7YXASE"
      },
      "execution_count": 9,
      "outputs": []
    },
    {
      "cell_type": "code",
      "source": [
        "!./stocks < stocks-google.txt"
      ],
      "metadata": {
        "colab": {
          "base_uri": "https://localhost:8080/"
        },
        "id": "yz5_-fNaXALA",
        "outputId": "b21d0323-653a-435b-a2ec-75230fe02837"
      },
      "execution_count": 10,
      "outputs": [
        {
          "output_type": "stream",
          "name": "stdout",
          "text": [
            "Tempo de LEITURA (em segundos)  0.00228922\n",
            "Tempo de CÓPIA (em segundos)  0.137235\n"
          ]
        }
      ]
    },
    {
      "cell_type": "markdown",
      "source": [
        "SOMA"
      ],
      "metadata": {
        "id": "O8sRdZ2-XjPY"
      }
    },
    {
      "cell_type": "code",
      "source": [
        "%%writefile soma.cu\n",
        "#include <thrust/device_vector.h>\n",
        "#include <thrust/reduce.h>\n",
        "#include <iostream>\n",
        "\n",
        "int main() {\n",
        "    // Criando um vetor na GPU com 5 elementos: {10, 20, 30, 40, 50}\n",
        "    thrust::device_vector<int> vec_gpu(5);\n",
        "    thrust::sequence(vec_gpu.begin(), vec_gpu.end(), 10, 10);\n",
        "\n",
        "    // Calculando a soma dos elementos\n",
        "    int soma = thrust::reduce(vec_gpu.begin(), vec_gpu.end(), 0, thrust::plus<int>());\n",
        "\n",
        "    std::cout << \"Soma dos elementos: \" << soma << std::endl; // Saída: 150\n",
        "\n",
        "    return 0;\n",
        "}"
      ],
      "metadata": {
        "colab": {
          "base_uri": "https://localhost:8080/"
        },
        "id": "zlNvotg4XACq",
        "outputId": "4a87e00e-5925-4ea4-cd80-4cd9602308f8"
      },
      "execution_count": 11,
      "outputs": [
        {
          "output_type": "stream",
          "name": "stdout",
          "text": [
            "Writing soma.cu\n"
          ]
        }
      ]
    },
    {
      "cell_type": "markdown",
      "source": [
        "DIFERENÇAS PONTO A PONTO"
      ],
      "metadata": {
        "id": "4Jks6tG1X7xp"
      }
    },
    {
      "cell_type": "code",
      "source": [
        "%%writefile diferencas.cu\n",
        "#include <thrust/device_vector.h>\n",
        "#include <thrust/transform.h>\n",
        "#include <iostream>\n",
        "\n",
        "int main() {\n",
        "    // Criando vetores de preços na GPU\n",
        "    thrust::device_vector<double> AAPL(5, 150.0);  // Exemplo com preço fixo\n",
        "    thrust::device_vector<double> MSFT(5, 140.0);  // Exemplo com preço fixo\n",
        "    thrust::device_vector<double> diff(5);         // Para armazenar as diferenças\n",
        "\n",
        "    // Calculando a diferença ponto a ponto entre os preços\n",
        "    thrust::transform(AAPL.begin(), AAPL.end(), MSFT.begin(), diff.begin(), thrust::minus<double>());\n",
        "\n",
        "    // Exibindo as diferenças\n",
        "    for (int i = 0; i < diff.size(); i++) {\n",
        "        std::cout << \"Diferença \" << i << \": \" << diff[i] << std::endl;\n",
        "    }\n",
        "\n",
        "    return 0;\n",
        "}"
      ],
      "metadata": {
        "colab": {
          "base_uri": "https://localhost:8080/"
        },
        "id": "a_3kjN87Xagx",
        "outputId": "a50b33f6-9c1f-4bda-d7f2-596109004afc"
      },
      "execution_count": 12,
      "outputs": [
        {
          "output_type": "stream",
          "name": "stdout",
          "text": [
            "Writing diferencas.cu\n"
          ]
        }
      ]
    },
    {
      "cell_type": "markdown",
      "source": [
        "## Exercício 1 e 2"
      ],
      "metadata": {
        "id": "_tvljBsoYLum"
      }
    },
    {
      "cell_type": "markdown",
      "source": [
        "### Exercício 1\n",
        "\n",
        "- Leia os preços das ações de stocks-google.txt e armazenem em um host_vector.\n",
        "- Crie um device_vector e transfiram os dados do host_vector para ele.\n",
        "- Meça o tempo de alocação e cópia dos dados usando a biblioteca std::chrono e imprimam esse tempo para ver quanto tempo a operação leva.\n",
        "\n",
        "### Exercício 2\n",
        "\n",
        "- Calcule o preço médio das ações do Google nos últimos 10 anos.\n",
        "- Calcule o preço médio das ações nos últimos 365 dias.\n",
        "- Encontre o maior e o menor preço do período total e do último ano.\n",
        "\n"
      ],
      "metadata": {
        "id": "aHRSSxOAhACY"
      }
    },
    {
      "cell_type": "code",
      "source": [
        "%%writefile stocksEx1e2.cu\n",
        "#include <thrust/device_vector.h>\n",
        "#include <thrust/host_vector.h>\n",
        "#include <thrust/extrema.h>\n",
        "#include <iostream>\n",
        "#include <chrono>\n",
        "using namespace std;\n",
        "\n",
        "int main() {\n",
        "    std::chrono::duration<double> diff;\n",
        "\n",
        "    // Leitura\n",
        "    auto leitura_i = std::chrono::steady_clock::now();\n",
        "    thrust::host_vector<double> host(3112, 0);\n",
        "    for (int i = 0; i < 3112; i++) {\n",
        "        cin >> host[i];\n",
        "    }\n",
        "    auto leitura_f = std::chrono::steady_clock::now();\n",
        "    diff = leitura_f - leitura_i;\n",
        "    cout << \"Tempo de LEITURA (em segundos)  \" << diff.count() << endl;\n",
        "\n",
        "    // Copia\n",
        "    auto copia_i = std::chrono::steady_clock::now();\n",
        "    thrust::device_vector<double> dev(host);\n",
        "    auto copia_f = std::chrono::steady_clock::now();\n",
        "    diff = copia_f - copia_i;\n",
        "    cout << \"Tempo de CÓPIA (em segundos)  \" << diff.count() << endl;\n",
        "\n",
        "\n",
        "    // Calculando o preço médio dos últimos 10 anos\n",
        "    double soma = thrust::reduce(dev.begin(), dev.end(), 0.0, thrust::plus<double>());\n",
        "    double preco_medio = soma / 3112;\n",
        "    cout << \"Preço médio 10 anos: \" << preco_medio << endl;\n",
        "\n",
        "    // Calculando o preço médio dos últimos 365 dias\n",
        "    thrust::device_vector<double> dev_ano(dev.end() - 365, dev.end());\n",
        "    double ano_soma = thrust::reduce(dev_ano.begin(), dev_ano.end(), 0.0, thrust::plus<double>());\n",
        "    double ano_media = ano_soma / 365;\n",
        "    cout << \"Preço médio 365 dias: \" << ano_media << endl;\n",
        "\n",
        "    // Encontrando o maior e o menor preço no período total de 10 anos\n",
        "    auto min_max_total = thrust::minmax_element(dev.begin(), dev.end());\n",
        "    cout << \"Menor preço 10 anos: \" << *min_max_total.first << endl;\n",
        "    cout << \"Maior preço 10 anos: \" << *min_max_total.second << endl;\n",
        "\n",
        "    // Encontrando o maior e o menor preço nos últimos 365 dias\n",
        "    auto min_max_ano = thrust::minmax_element(dev_ano.begin(), dev_ano.end());\n",
        "    cout << \"Menor preço 365 dias: \" << *min_max_ano.first << endl;\n",
        "    cout << \"Maior preço 365 dias: \" << *min_max_ano.second << endl;\n",
        "\n",
        "    return 0;\n",
        "}"
      ],
      "metadata": {
        "colab": {
          "base_uri": "https://localhost:8080/"
        },
        "id": "JvhwB5BlYEfv",
        "outputId": "b4c33553-bdb1-4b82-d710-34021eaacb3f"
      },
      "execution_count": 13,
      "outputs": [
        {
          "output_type": "stream",
          "name": "stdout",
          "text": [
            "Writing stocksEx1e2.cu\n"
          ]
        }
      ]
    },
    {
      "cell_type": "code",
      "source": [
        "!nvcc -arch=sm_70 -std=c++14 stocksEx1e2.cu -o stocksEx1e2"
      ],
      "metadata": {
        "id": "lTg7-C5zcgA4"
      },
      "execution_count": 14,
      "outputs": []
    },
    {
      "cell_type": "code",
      "source": [
        "!./stocksEx1e2 < stocks-google.txt"
      ],
      "metadata": {
        "colab": {
          "base_uri": "https://localhost:8080/"
        },
        "id": "uWBG9sArcjJW",
        "outputId": "3d852219-a343-472e-f000-a8844c653ca7"
      },
      "execution_count": 15,
      "outputs": [
        {
          "output_type": "stream",
          "name": "stdout",
          "text": [
            "Tempo de LEITURA (em segundos)  0.00432368\n",
            "Tempo de CÓPIA (em segundos)  0.131204\n",
            "Preço médio 10 anos: 1580.08\n",
            "Preço médio 365 dias: 1615.81\n",
            "Menor preço 10 anos: 1015.24\n",
            "Maior preço 10 anos: 2200\n",
            "Menor preço 365 dias: 1060.5\n",
            "Maior preço 365 dias: 2200\n"
          ]
        }
      ]
    },
    {
      "cell_type": "markdown",
      "source": [
        "## Exercício 3"
      ],
      "metadata": {
        "id": "5ZNwK0QOYR5v"
      }
    },
    {
      "cell_type": "markdown",
      "source": [
        "- Leia os preços das ações de ambas as empresas e armazenem em dois device_vectors.\n",
        "- Calcule a diferença ponto a ponto entre os dois vetores e armazenem as diferenças em um terceiro vetor.\n",
        "- Calcule a média das diferenças para entender qual empresa teve, em média, um preço maior."
      ],
      "metadata": {
        "id": "oyviZy-3lA6A"
      }
    },
    {
      "cell_type": "code",
      "source": [
        "%%writefile stocksEx3.cu\n",
        "#include <thrust/device_vector.h>\n",
        "#include <thrust/transform.h>\n",
        "#include <iostream>\n",
        "#include <sstream>\n",
        "#include <string>\n",
        "using namespace std;\n",
        "\n",
        "int main() {\n",
        "    thrust::device_vector<double> AAPL(3520, 0.0);\n",
        "    thrust::device_vector<double> MSFT(3520, 0.0);\n",
        "    thrust::device_vector<double> diff(3520);\n",
        "\n",
        "    string line;\n",
        "    double value1 = 0.0, value2 = 0.0;\n",
        "    for (int i = 0; i < 3520; i++) {\n",
        "        getline(cin, line);\n",
        "        stringstream ss(line);\n",
        "        string temp;\n",
        "        getline(ss, temp, ',');\n",
        "        value1 = stod(temp);\n",
        "        getline(ss, temp, ',');\n",
        "        value2 = stod(temp);\n",
        "        AAPL[i] = value1;\n",
        "        MSFT[i] = value2;\n",
        "    }\n",
        "\n",
        "    thrust::transform(AAPL.begin(), AAPL.end(), MSFT.begin(), diff.begin(), thrust::minus<double>());\n",
        "\n",
        "    double soma = thrust::reduce(diff.begin(), diff.end(), 0.0, thrust::plus<double>());\n",
        "    double media = soma / 3520;\n",
        "    cout << \"Média das diferenças: \" << media << endl;\n",
        "\n",
        "    return 0;\n",
        "}"
      ],
      "metadata": {
        "id": "0cPo3Ko8YUlB",
        "colab": {
          "base_uri": "https://localhost:8080/"
        },
        "outputId": "e47c3a0b-6dff-40ef-d971-e228290b0bcf"
      },
      "execution_count": 16,
      "outputs": [
        {
          "output_type": "stream",
          "name": "stdout",
          "text": [
            "Writing stocksEx3.cu\n"
          ]
        }
      ]
    },
    {
      "cell_type": "code",
      "source": [
        "!nvcc -arch=sm_70 -std=c++14 stocksEx3.cu -o stocksEx3"
      ],
      "metadata": {
        "id": "JOQZaE5wmUOp"
      },
      "execution_count": 17,
      "outputs": []
    },
    {
      "cell_type": "code",
      "source": [
        "!./stocksEx3 < stocks2.txt"
      ],
      "metadata": {
        "id": "54a7b8nWmU0p",
        "colab": {
          "base_uri": "https://localhost:8080/"
        },
        "outputId": "bea7cde9-0821-422d-d99d-08f04c55fed6"
      },
      "execution_count": 18,
      "outputs": [
        {
          "output_type": "stream",
          "name": "stdout",
          "text": [
            "Média das diferenças: -265.232\n"
          ]
        }
      ]
    }
  ]
}