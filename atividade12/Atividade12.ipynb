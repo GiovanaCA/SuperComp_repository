{
  "nbformat": 4,
  "nbformat_minor": 0,
  "metadata": {
    "colab": {
      "provenance": [],
      "gpuType": "T4"
    },
    "kernelspec": {
      "name": "python3",
      "display_name": "Python 3"
    },
    "language_info": {
      "name": "python"
    },
    "accelerator": "GPU"
  },
  "cells": [
    {
      "cell_type": "markdown",
      "source": [
        "# Supercomp - Atividade 12\n",
        "\n",
        "## Funções Customizadas e Otimização com Fusion Kernel"
      ],
      "metadata": {
        "id": "A254t_6iHWbL"
      }
    },
    {
      "cell_type": "code",
      "execution_count": 1,
      "metadata": {
        "colab": {
          "base_uri": "https://localhost:8080/"
        },
        "id": "W44gQUYMHTmz",
        "outputId": "7be5855b-77fd-4821-da63-dcf9eccc1629"
      },
      "outputs": [
        {
          "output_type": "stream",
          "name": "stdout",
          "text": [
            "Fri Oct 11 12:31:55 2024       \n",
            "+---------------------------------------------------------------------------------------+\n",
            "| NVIDIA-SMI 535.104.05             Driver Version: 535.104.05   CUDA Version: 12.2     |\n",
            "|-----------------------------------------+----------------------+----------------------+\n",
            "| GPU  Name                 Persistence-M | Bus-Id        Disp.A | Volatile Uncorr. ECC |\n",
            "| Fan  Temp   Perf          Pwr:Usage/Cap |         Memory-Usage | GPU-Util  Compute M. |\n",
            "|                                         |                      |               MIG M. |\n",
            "|=========================================+======================+======================|\n",
            "|   0  Tesla T4                       Off | 00000000:00:04.0 Off |                    0 |\n",
            "| N/A   37C    P8               9W /  70W |      0MiB / 15360MiB |      0%      Default |\n",
            "|                                         |                      |                  N/A |\n",
            "+-----------------------------------------+----------------------+----------------------+\n",
            "                                                                                         \n",
            "+---------------------------------------------------------------------------------------+\n",
            "| Processes:                                                                            |\n",
            "|  GPU   GI   CI        PID   Type   Process name                            GPU Memory |\n",
            "|        ID   ID                                                             Usage      |\n",
            "|=======================================================================================|\n",
            "|  No running processes found                                                           |\n",
            "+---------------------------------------------------------------------------------------+\n"
          ]
        }
      ],
      "source": [
        "!nvidia-smi"
      ]
    },
    {
      "cell_type": "markdown",
      "source": [
        "## Introdução a Operações Customizadas\n",
        "\n",
        "Implemente o cálculo Saxpy para dois vetores aleatórios, experimente diferentes valores para a constante a e observe os resultados."
      ],
      "metadata": {
        "id": "GQ-sDhvXJOId"
      }
    },
    {
      "cell_type": "code",
      "source": [
        "%%writefile operacao_customizada.cu\n",
        "#include <thrust/host_vector.h>\n",
        "#include <thrust/device_vector.h>\n",
        "#include <thrust/transform.h>\n",
        "#include <cstdlib> // Para rand()\n",
        "#include <iostream>\n",
        "using namespace std;\n",
        "\n",
        "struct saxpy\n",
        "{\n",
        "    int a;\n",
        "    saxpy(int a_) : a(a_) {}  // Inicializa a constante a\n",
        "\n",
        "    __host__ __device__\n",
        "    double operator()(const int& x, const int& y) const {\n",
        "        return a * x + y;  // Aplica a fórmula a * x + y\n",
        "    }\n",
        "};\n",
        "\n",
        "int main() {\n",
        "    const int N = 1000;\n",
        "\n",
        "    thrust::host_vector<int> h_a(N);\n",
        "    thrust::host_vector<int> h_b(N);\n",
        "\n",
        "    for (int i = 0; i < N; ++i) {\n",
        "        h_a[i] = rand() % 100;\n",
        "        h_b[i] = rand() % 100;\n",
        "    }\n",
        "\n",
        "    thrust::device_vector<int> d_a = h_a;\n",
        "    thrust::device_vector<int> d_b = h_b;\n",
        "    thrust::device_vector<double> d_c(N);\n",
        "\n",
        "    int a = 5;\n",
        "\n",
        "    thrust::transform(d_a.begin(), d_a.end(), d_b.begin(), d_c.begin(), saxpy(a));\n",
        "\n",
        "    thrust::host_vector<double> h_c = d_c;\n",
        "\n",
        "    for (int i = 0; i < 10; ++i) { cout << \"Resultado [\" << i << \"]: \" << h_c[i] << endl;\n",
        "    }\n",
        "\n",
        "    return 0;\n",
        "}"
      ],
      "metadata": {
        "id": "5nkIpK03H8EN",
        "colab": {
          "base_uri": "https://localhost:8080/"
        },
        "outputId": "a1a9d902-7b1e-4d0f-a23f-197d2933fe2f"
      },
      "execution_count": 2,
      "outputs": [
        {
          "output_type": "stream",
          "name": "stdout",
          "text": [
            "Writing operacao_customizada.cu\n"
          ]
        }
      ]
    },
    {
      "cell_type": "code",
      "source": [
        "!nvcc -arch=sm_75 -std=c++14 operacao_customizada.cu -o operacao_customizada"
      ],
      "metadata": {
        "id": "WF-q6Dd6Ktbp"
      },
      "execution_count": 3,
      "outputs": []
    },
    {
      "cell_type": "code",
      "source": [
        "!./operacao_customizada"
      ],
      "metadata": {
        "id": "gLutZC3yKyGs",
        "colab": {
          "base_uri": "https://localhost:8080/"
        },
        "outputId": "bc766a25-ddfd-4568-ed2a-c5e949730d40"
      },
      "execution_count": 4,
      "outputs": [
        {
          "output_type": "stream",
          "name": "stdout",
          "text": [
            "Resultado [0]: 501\n",
            "Resultado [1]: 400\n",
            "Resultado [2]: 500\n",
            "Resultado [3]: 522\n",
            "Resultado [4]: 266\n",
            "Resultado [5]: 337\n",
            "Resultado [6]: 509\n",
            "Resultado [7]: 341\n",
            "Resultado [8]: 226\n",
            "Resultado [9]: 396\n"
          ]
        }
      ]
    },
    {
      "cell_type": "markdown",
      "source": [
        "## Transformações Unárias e Binárias"
      ],
      "metadata": {
        "id": "tC5StTzWJyML"
      }
    },
    {
      "cell_type": "code",
      "source": [
        "%%writefile unaria_binaria.cu\n",
        "#include <thrust/host_vector.h>\n",
        "#include <thrust/device_vector.h>\n",
        "#include <thrust/transform.h>\n",
        "#include <cstdlib>\n",
        "#include <iostream>\n",
        "using namespace std;\n",
        "\n",
        "\n",
        "struct square\n",
        "{\n",
        "    __host__ __device__\n",
        "    float operator()(const float& x) const {\n",
        "        return x * x;\n",
        "    }\n",
        "};\n",
        "\n",
        "\n",
        "int main(){\n",
        "    const int N = 1000;\n",
        "    thrust::host_vector<float> h_v(N);\n",
        "    for (int i = 0; i < N; ++i) {\n",
        "        h_v[i] = rand() % 10;\n",
        "    }\n",
        "\n",
        "    thrust::device_vector<float> d_v = h_v;\n",
        "    thrust::transform(d_v.begin(), d_v.end(), d_v.begin(), square());\n",
        "    thrust::host_vector<float> h_result = d_v;\n",
        "\n",
        "    for (int i = 0; i < 10; ++i) {\n",
        "        cout << \"Resultado [\" << i << \"]: \" << h_result[i] << endl;\n",
        "    }\n",
        "    return 0;\n",
        "}\n"
      ],
      "metadata": {
        "id": "LD4Bp2AgJyeK",
        "colab": {
          "base_uri": "https://localhost:8080/"
        },
        "outputId": "de91fbe9-14b1-4eeb-e4f7-43b7b3e41af9"
      },
      "execution_count": 5,
      "outputs": [
        {
          "output_type": "stream",
          "name": "stdout",
          "text": [
            "Writing unaria_binaria.cu\n"
          ]
        }
      ]
    },
    {
      "cell_type": "code",
      "source": [
        "!nvcc -arch=sm_75 -std=c++14 unaria_binaria.cu -o unaria_binaria"
      ],
      "metadata": {
        "id": "XMHLFob_zxBP"
      },
      "execution_count": 6,
      "outputs": []
    },
    {
      "cell_type": "code",
      "source": [
        "!./unaria_binaria"
      ],
      "metadata": {
        "colab": {
          "base_uri": "https://localhost:8080/"
        },
        "id": "bfGPuGQsz1KV",
        "outputId": "c4ac7d74-c443-41e4-d813-1723c18f214c"
      },
      "execution_count": 7,
      "outputs": [
        {
          "output_type": "stream",
          "name": "stdout",
          "text": [
            "Resultado [0]: 9\n",
            "Resultado [1]: 36\n",
            "Resultado [2]: 49\n",
            "Resultado [3]: 25\n",
            "Resultado [4]: 9\n",
            "Resultado [5]: 25\n",
            "Resultado [6]: 36\n",
            "Resultado [7]: 4\n",
            "Resultado [8]: 81\n",
            "Resultado [9]: 1\n"
          ]
        }
      ]
    },
    {
      "cell_type": "markdown",
      "source": [
        "## Calculando a Magnitude de um Vetor\n",
        "\n",
        "Implemente uma função que calcula a magnitude de um vetor de floats. Compare os resultados com uma implementação em C++ feita na CPU para ver a diferença no tempo de execução."
      ],
      "metadata": {
        "id": "rmBQvAwXKFqM"
      }
    },
    {
      "cell_type": "code",
      "source": [
        "%%writefile magnitude.cu\n",
        "#include <thrust/host_vector.h>\n",
        "#include <thrust/device_vector.h>\n",
        "#include <thrust/transform.h>\n",
        "#include <thrust/transform_reduce.h>\n",
        "#include <cstdlib>\n",
        "#include <iostream>\n",
        "#include <cmath>\n",
        "#include <chrono>\n",
        "using namespace std;\n",
        "\n",
        "struct square\n",
        "{\n",
        "    __host__ __device__\n",
        "    double operator()(const double& x) const {\n",
        "        return x * x;\n",
        "    }\n",
        "};\n",
        "\n",
        "double magnitude_gpu(thrust::device_vector<double>& v) {\n",
        "    double sum_of_squares = thrust::transform_reduce(v.begin(), v.end(), square(), 0.0f, thrust::plus<double>());\n",
        "    return std::sqrt(sum_of_squares);\n",
        "}\n",
        "\n",
        "double magnitude_cpu(const std::vector<double>& v) {\n",
        "    double sum_of_squares = 0.0f;\n",
        "    for (size_t i = 0; i < v.size(); ++i) {\n",
        "        sum_of_squares += v[i] * v[i];\n",
        "    }\n",
        "    return std::sqrt(sum_of_squares);\n",
        "}\n",
        "\n",
        "int main() {\n",
        "    const int N = 1000000;  // Tamanho do vetor\n",
        "    thrust::host_vector<double> h_v(N);\n",
        "\n",
        "    for (int i = 0; i < N; ++i) { h_v[i] = static_cast<double>(rand() % 10); }\n",
        "\n",
        "    thrust::device_vector<double> d_v = h_v;\n",
        "\n",
        "    // Conversão para std::vector para a implementação na CPU\n",
        "    std::vector<double> v_cpu(h_v.begin(), h_v.end());\n",
        "\n",
        "    auto start_gpu = chrono::high_resolution_clock::now();\n",
        "    double result_gpu = magnitude_gpu(d_v);\n",
        "    auto end_gpu = chrono::high_resolution_clock::now();\n",
        "    chrono::duration<double> duration_gpu = end_gpu - start_gpu;\n",
        "\n",
        "    auto start_cpu = chrono::high_resolution_clock::now();\n",
        "    double result_cpu = magnitude_cpu(v_cpu);\n",
        "    auto end_cpu = chrono::high_resolution_clock::now();\n",
        "    chrono::duration<double> duration_cpu = end_cpu - start_cpu;\n",
        "\n",
        "    cout << \"Magnitude GPU: \" << result_gpu << endl;\n",
        "    cout << \"Tempo GPU: \" << duration_gpu.count() << \" segundos\" << endl;\n",
        "\n",
        "    cout << \"Magnitude CPU: \" << result_cpu << endl;\n",
        "    cout << \"Tempo CPU: \" << duration_cpu.count() << \" segundos\" << endl;\n",
        "\n",
        "    return 0;\n",
        "}"
      ],
      "metadata": {
        "id": "QMMuid1TKGt5",
        "colab": {
          "base_uri": "https://localhost:8080/"
        },
        "outputId": "ca2965fa-0761-45ed-84eb-328c28c89605"
      },
      "execution_count": 16,
      "outputs": [
        {
          "output_type": "stream",
          "name": "stdout",
          "text": [
            "Overwriting magnitude.cu\n"
          ]
        }
      ]
    },
    {
      "cell_type": "code",
      "source": [
        "!nvcc -arch=sm_75 -std=c++14 magnitude.cu -o magnitude"
      ],
      "metadata": {
        "id": "fQHE_nRw0Sfh"
      },
      "execution_count": 17,
      "outputs": []
    },
    {
      "cell_type": "code",
      "source": [
        "!./magnitude"
      ],
      "metadata": {
        "colab": {
          "base_uri": "https://localhost:8080/"
        },
        "id": "pqKEkDqn0UkB",
        "outputId": "599515f7-58bc-4e0a-958b-95498aa0531d"
      },
      "execution_count": 18,
      "outputs": [
        {
          "output_type": "stream",
          "name": "stdout",
          "text": [
            "Magnitude GPU: 5340.79\n",
            "Tempo GPU: 0.000865067 segundos\n",
            "Magnitude CPU: 5340.79\n",
            "Tempo CPU: 0.00732827 segundos\n"
          ]
        }
      ]
    },
    {
      "cell_type": "markdown",
      "source": [
        "## Otimização com Fusion Kernel\n",
        "\n",
        "Implemente o cálculo da variância usando a técnica de fusion kernel. Compare o desempenho com a implementação que calcula a média e a variância em etapas separadas. Use diferentes tamanhos de vetor e observe as diferenças de desempenho."
      ],
      "metadata": {
        "id": "drTEpq7JKbE_"
      }
    },
    {
      "cell_type": "code",
      "source": [
        "%%writefile variancia_fusion_kernel.cu\n",
        "#include <thrust/host_vector.h>\n",
        "#include <thrust/device_vector.h>\n",
        "#include <thrust/transform.h>\n",
        "#include <thrust/transform_reduce.h>\n",
        "#include <cstdlib>\n",
        "#include <iostream>\n",
        "#include <cmath>\n",
        "#include <chrono>\n",
        "using namespace std;\n",
        "\n",
        "struct variance_op\n",
        "{\n",
        "    float mean;\n",
        "    variance_op(float mean_) : mean(mean_) {}\n",
        "\n",
        "    __host__ __device__\n",
        "    float operator()(const float& x) const {\n",
        "        float diff = x - mean;\n",
        "        return diff * diff;\n",
        "    }\n",
        "};\n",
        "\n",
        "struct variance_fusion_op\n",
        "{\n",
        "    __host__ __device__\n",
        "    thrust::pair<float, float> operator()(const float& x) const {\n",
        "        return thrust::make_pair(x, x * x);  // Retorna (x, x^2)\n",
        "    }\n",
        "};\n",
        "\n",
        "float calculate_mean(const thrust::device_vector<float>& d_vec) { return thrust::reduce(d_vec.begin(), d_vec.end(), 0.0f, thrust::plus<float>()) / d_vec.size(); }\n",
        "\n",
        "float calculate_variance(const thrust::device_vector<float>& d_vec, float mean) {\n",
        "    return thrust::transform_reduce(d_vec.begin(), d_vec.end(), variance_op(mean), 0.0f, thrust::plus<float>()) / d_vec.size();\n",
        "}\n",
        "\n",
        "float calculate_variance_fusion(const thrust::device_vector<float>& d_vec) {\n",
        "    thrust::pair<float, float> result = thrust::transform_reduce(d_vec.begin(), d_vec.end(), variance_fusion_op(), thrust::make_pair(0.0f, 0.0f),\n",
        "          [] __host__ __device__ (const thrust::pair<float, float>& a, const thrust::pair<float, float>& b) {\n",
        "        return thrust::make_pair(a.first + b.first, a.second + b.second);  // Soma de (x, x^2)\n",
        "    });\n",
        "\n",
        "    float mean = result.first / d_vec.size();\n",
        "    float mean_of_squares = result.second / d_vec.size();\n",
        "    return mean_of_squares - mean * mean;\n",
        "}\n",
        "\n",
        "int main(){\n",
        "    const int N = 1000000;\n",
        "    thrust::host_vector<float> h_v(N);\n",
        "\n",
        "    for (int i = 0; i < N; ++i) { h_v[i] = rand() % 10; }\n",
        "\n",
        "    thrust::device_vector<float> d_v = h_v;\n",
        "\n",
        "    auto start = chrono::high_resolution_clock::now();\n",
        "    float mean = calculate_mean(d_v);\n",
        "    float variance_traditional = calculate_variance(d_v, mean);\n",
        "    auto end = chrono::high_resolution_clock::now();\n",
        "    chrono::duration<float> duration_traditional = end - start;\n",
        "\n",
        "    start = chrono::high_resolution_clock::now();\n",
        "    float variance_fusion = calculate_variance_fusion(d_v);\n",
        "    end = chrono::high_resolution_clock::now();\n",
        "    chrono::duration<float> duration_fusion = end - start;\n",
        "\n",
        "    cout << \"Variância tradicional: \" << variance_traditional << endl;\n",
        "    cout << \"Tempo variância tradicional: \" << duration_traditional.count() << \" segundos\" << endl;\n",
        "\n",
        "    cout << \"Variância com Fusion Kernel: \" << variance_fusion << endl;\n",
        "    cout << \"Tempo variância Fusion Kernel: \" << duration_fusion.count() << \" segundos\" << endl;\n",
        "\n",
        "    return 0;\n",
        "}"
      ],
      "metadata": {
        "id": "vCKrhA3DKfYw",
        "colab": {
          "base_uri": "https://localhost:8080/"
        },
        "outputId": "f30992aa-8089-46f0-ed3a-8370af362c92"
      },
      "execution_count": 11,
      "outputs": [
        {
          "output_type": "stream",
          "name": "stdout",
          "text": [
            "Writing variancia_fusion_kernel.cu\n"
          ]
        }
      ]
    },
    {
      "cell_type": "code",
      "source": [
        "!nvcc -arch=sm_75 -std=c++14 --extended-lambda variancia_fusion_kernel.cu -o variancia_fusion_kernel"
      ],
      "metadata": {
        "id": "b6eF_aBM3LFZ"
      },
      "execution_count": 14,
      "outputs": []
    },
    {
      "cell_type": "code",
      "source": [
        "!./variancia_fusion_kernel"
      ],
      "metadata": {
        "colab": {
          "base_uri": "https://localhost:8080/"
        },
        "id": "SH95FYkh3JYw",
        "outputId": "100e4707-69c9-46e6-ff85-f1ce1da2365f"
      },
      "execution_count": 15,
      "outputs": [
        {
          "output_type": "stream",
          "name": "stdout",
          "text": [
            "Variância tradicional: 8.24941\n",
            "Tempo variância tradicional: 0.00118417 segundos\n",
            "Variância com Fusion Kernel: 8.24941\n",
            "Tempo variância Fusion Kernel: 0.000252958 segundos\n"
          ]
        }
      ]
    }
  ]
}