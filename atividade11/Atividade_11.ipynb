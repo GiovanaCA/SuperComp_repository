{
  "nbformat": 4,
  "nbformat_minor": 0,
  "metadata": {
    "colab": {
      "provenance": [],
      "gpuType": "T4"
    },
    "kernelspec": {
      "name": "python3",
      "display_name": "Python 3"
    },
    "language_info": {
      "name": "python"
    },
    "accelerator": "GPU"
  },
  "cells": [
    {
      "cell_type": "markdown",
      "source": [
        "# Supercomp - Atividade 11"
      ],
      "metadata": {
        "id": "OakPapryxl0i"
      }
    },
    {
      "cell_type": "code",
      "source": [
        "!nvidia-smi"
      ],
      "metadata": {
        "colab": {
          "base_uri": "https://localhost:8080/"
        },
        "id": "jVE4yYt5LCbQ",
        "outputId": "8828a8c2-55c7-4226-cfb9-49255a40d475"
      },
      "execution_count": 1,
      "outputs": [
        {
          "output_type": "stream",
          "name": "stdout",
          "text": [
            "Mon Oct  7 17:30:55 2024       \n",
            "+---------------------------------------------------------------------------------------+\n",
            "| NVIDIA-SMI 535.104.05             Driver Version: 535.104.05   CUDA Version: 12.2     |\n",
            "|-----------------------------------------+----------------------+----------------------+\n",
            "| GPU  Name                 Persistence-M | Bus-Id        Disp.A | Volatile Uncorr. ECC |\n",
            "| Fan  Temp   Perf          Pwr:Usage/Cap |         Memory-Usage | GPU-Util  Compute M. |\n",
            "|                                         |                      |               MIG M. |\n",
            "|=========================================+======================+======================|\n",
            "|   0  Tesla T4                       Off | 00000000:00:04.0 Off |                    0 |\n",
            "| N/A   36C    P8               9W /  70W |      0MiB / 15360MiB |      0%      Default |\n",
            "|                                         |                      |                  N/A |\n",
            "+-----------------------------------------+----------------------+----------------------+\n",
            "                                                                                         \n",
            "+---------------------------------------------------------------------------------------+\n",
            "| Processes:                                                                            |\n",
            "|  GPU   GI   CI        PID   Type   Process name                            GPU Memory |\n",
            "|        ID   ID                                                             Usage      |\n",
            "|=======================================================================================|\n",
            "|  No running processes found                                                           |\n",
            "+---------------------------------------------------------------------------------------+\n"
          ]
        }
      ]
    },
    {
      "cell_type": "markdown",
      "source": [
        "- Cálculo da Variância usando Iteradores Dinâmicos\n",
        "- Análise de Variação Diária dos Preços de Ações\n",
        "- Contagem de Dias com Aumento no Preço das Ações\n",
        "- Cálculo do Aumento Médio nos Dias em que o Preço Subiu"
      ],
      "metadata": {
        "id": "5H8yOoUsxtDA"
      }
    },
    {
      "cell_type": "code",
      "execution_count": 2,
      "metadata": {
        "id": "DgJgkgSTxilE",
        "colab": {
          "base_uri": "https://localhost:8080/"
        },
        "outputId": "4bb1d82f-d04b-48c3-fbd3-f673a0a898b9"
      },
      "outputs": [
        {
          "output_type": "stream",
          "name": "stdout",
          "text": [
            "Overwriting atividade11.cu\n"
          ]
        }
      ],
      "source": [
        "%%writefile atividade11.cu\n",
        "#include <thrust/device_vector.h>\n",
        "#include <thrust/host_vector.h>\n",
        "#include <thrust/transform_reduce.h>\n",
        "#include <thrust/iterator/constant_iterator.h>\n",
        "#include <thrust/extrema.h>\n",
        "#include <thrust/transform.h>\n",
        "#include <thrust/reduce.h>\n",
        "#include <thrust/functional.h>\n",
        "#include <thrust/count.h>\n",
        "#include <iostream>\n",
        "#include <chrono>\n",
        "using namespace std;\n",
        "using namespace std::chrono;\n",
        "\n",
        "int main() {\n",
        "    int n = 3112;\n",
        "    double value = 0.0;\n",
        "    thrust::host_vector<double> host(n, 0);\n",
        "    for (int i = 0; i < n; i++) {\n",
        "        cin >> value;\n",
        "        host[i] = value;\n",
        "    }\n",
        "    thrust::device_vector<double> dev(host);\n",
        "\n",
        "\n",
        "    // CALCULO DA VARIANCIA USANDO ITERADORES DINAMICOS\n",
        "\n",
        "    auto inicio_leitura = chrono::steady_clock::now();\n",
        "    double total_sum = thrust::reduce(dev.begin(), dev.end(), 0.0, thrust::plus<double>());\n",
        "    double mean_price = total_sum / n;\n",
        "    thrust::constant_iterator<double> mean_iter(mean_price);\n",
        "    auto variance_functor = [mean_price] __host__ __device__ (double x) { return (x-mean_price) * (x-mean_price); };\n",
        "    double variance = thrust::transform_reduce( dev.begin(), dev.end(), variance_functor, 0.0, thrust::plus<double>() ) / n;\n",
        "    cout << \"Variância dos preços das ações nos últimos 10 anos: \" << variance << endl;\n",
        "    auto fim_leitura = chrono::steady_clock::now();\n",
        "    duration<double> diff = fim_leitura - inicio_leitura;\n",
        "    cout << \"Tempo do cálculo da variância (em segundos):  \" << diff.count() << endl << endl;\n",
        "\n",
        "    // ANALISE DA VARIACAO DIARIA DOS PRECOS DAS ACOES\n",
        "\n",
        "    inicio_leitura = chrono::steady_clock::now();\n",
        "    thrust::device_vector<double> ganho_diario(n-1);\n",
        "    auto difference_functor = [] __host__ __device__ (double x1, double x2) { return x1 - x2; };\n",
        "    thrust::transform(dev.begin(), dev.end()-1, dev.begin()+1, ganho_diario.begin(), difference_functor);\n",
        "    cout << \"Mostrando o ganho diário dos primeiros 20 dias:\" << endl;\n",
        "    for (int i = 0; i < 20; i++) { cout << \"Ganho diário: \" << ganho_diario[i] << endl; }\n",
        "    fim_leitura = chrono::steady_clock::now();\n",
        "    diff = fim_leitura - inicio_leitura;\n",
        "    cout << \"Tempo da análise da variação diária dos preços (em segundos):  \" << diff.count() << endl << endl;\n",
        "\n",
        "    // CONTAGEM DE DIAS COM AUMENTO NO PRECO DAS ACOES\n",
        "\n",
        "    inicio_leitura = chrono::steady_clock::now();\n",
        "    int dias_ganho = thrust::count_if(ganho_diario.begin(), ganho_diario.end(), [] __host__ __device__ (double x) { return x > 0; });\n",
        "    cout << \"Contagem de dias com ganho: \" << dias_ganho << endl;\n",
        "    fim_leitura = chrono::steady_clock::now();\n",
        "    diff = fim_leitura - inicio_leitura;\n",
        "    cout << \"Tempo do cálculo da contagem de dias com aumento no preço (em segundos):  \" << diff.count() << endl << endl;\n",
        "\n",
        "    // CALCULO DO AUMENTO MEDIO NOS DIAS EM QUE O PRECO SUBIU\n",
        "\n",
        "    inicio_leitura = chrono::steady_clock::now();\n",
        "    thrust::replace_if(ganho_diario.begin(), ganho_diario.end(), [] __host__ __device__ (double x) { return x < 0; }, 0);\n",
        "    double ganho_total = thrust::reduce(ganho_diario.begin(), ganho_diario.end(), 0.0, thrust::plus<double>());\n",
        "    double aumento_medio = ganho_total / dias_ganho;\n",
        "    cout << \"Aumento médio nos dias que o preço subiu: \" << aumento_medio << endl;\n",
        "    fim_leitura = chrono::steady_clock::now();\n",
        "    diff = fim_leitura - inicio_leitura;\n",
        "    cout << \"Tempo do cálculo do aumento médio nos dias que o preço subiu (em segundos):  \" << diff.count() << endl;\n",
        "\n",
        "    return 0;\n",
        "}"
      ]
    },
    {
      "cell_type": "code",
      "source": [
        "!nvcc -arch=sm_75 -std=c++14 --extended-lambda atividade11.cu -o atividade11"
      ],
      "metadata": {
        "id": "aR6LynFh4Btv"
      },
      "execution_count": 3,
      "outputs": []
    },
    {
      "cell_type": "code",
      "source": [
        "!./atividade11 < stocks-google.txt"
      ],
      "metadata": {
        "id": "RDj2MoGK4Ft3",
        "colab": {
          "base_uri": "https://localhost:8080/"
        },
        "outputId": "dc745efd-8f3e-4a3d-a8e7-bf500265a993"
      },
      "execution_count": 4,
      "outputs": [
        {
          "output_type": "stream",
          "name": "stdout",
          "text": [
            "Variância dos preços das ações nos últimos 10 anos: 123792\n",
            "Tempo do cálculo da variância (em segundos):  0.00105211\n",
            "\n",
            "Mostrando o ganho diário dos primeiros 20 dias:\n",
            "Ganho diário: -5.26\n",
            "Ganho diário: -1.5\n",
            "Ganho diário: 3.25\n",
            "Ganho diário: -6.25\n",
            "Ganho diário: -3.5\n",
            "Ganho diário: -3.25\n",
            "Ganho diário: 1.75\n",
            "Ganho diário: -5\n",
            "Ganho diário: 2.5\n",
            "Ganho diário: -5.5\n",
            "Ganho diário: 5.25\n",
            "Ganho diário: -6.25\n",
            "Ganho diário: -1.5\n",
            "Ganho diário: -2.5\n",
            "Ganho diário: -2.25\n",
            "Ganho diário: 5.25\n",
            "Ganho diário: 1.5\n",
            "Ganho diário: -3.75\n",
            "Ganho diário: -5.5\n",
            "Ganho diário: -1.25\n",
            "Tempo da análise da variação diária dos preços (em segundos):  0.000448037\n",
            "\n",
            "Contagem de dias com ganho: 55\n",
            "Tempo do cálculo da contagem de dias com aumento no preço (em segundos):  0.000135606\n",
            "\n",
            "Aumento médio nos dias que o preço subiu: 153.624\n",
            "Tempo do cálculo do aumento médio nos dias que o preço subiu (em segundos):  8.7826e-05\n"
          ]
        }
      ]
    },
    {
      "cell_type": "markdown",
      "source": [
        "## Discussão de Resultados\n",
        "\n",
        "O tempo total de execução já é muito pequeno, mostrando que com grandes volumes de dados (como 10 anos de preços diários), essa abordagem pode escalar bem, mantendo o uso de memória controlado e o tempo de processamento eficiente."
      ],
      "metadata": {
        "id": "K0eZXh0rx4q3"
      }
    }
  ]
}