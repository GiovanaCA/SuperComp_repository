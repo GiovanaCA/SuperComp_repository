{
 "cells": [
  {
   "attachments": {},
   "cell_type": "markdown",
   "metadata": {},
   "source": [
    "# Implementação com Threads OpenMP"
   ]
  },
  {
   "attachments": {},
   "cell_type": "markdown",
   "metadata": {},
   "source": [
    "## Grafo\n",
    "\n",
    "Ambos os grafos a serem utilizados serão os mesmos da abordagem exaustiva."
   ]
  },
  {
   "attachments": {},
   "cell_type": "markdown",
   "metadata": {},
   "source": [
    "## Código-fonte modificado - OpenMP"
   ]
  },
  {
   "cell_type": "code",
   "execution_count": 2,
   "metadata": {},
   "outputs": [
    {
     "name": "stdout",
     "output_type": "stream",
     "text": [
      "Writing threads_openmp1.cpp\n"
     ]
    }
   ],
   "source": [
    "%%writefile threads_openmp1.cpp\n",
    "#include <iostream>\n",
    "#include <vector>\n",
    "#include <fstream>\n",
    "#include <algorithm>\n",
    "#include <functional>\n",
    "#include <omp.h>\n",
    "#include <mutex>\n",
    "\n",
    "using namespace std;\n",
    "\n",
    "vector<vector<int> > LerGrafo(const string& nomeArquivo, int& numVertices) {\n",
    "    ifstream arquivo(nomeArquivo);\n",
    "    int numArestas;\n",
    "    arquivo >> numVertices >> numArestas;\n",
    "    vector<vector<int> > grafo(numVertices, vector<int>(numVertices, 0));\n",
    "    for (int i = 0; i < numArestas; ++i) {\n",
    "        int u, v;\n",
    "        arquivo >> u >> v;\n",
    "        grafo[u - 1][v - 1] = 1;\n",
    "        grafo[v - 1][u - 1] = 1;\n",
    "    }\n",
    "    arquivo.close();\n",
    "    return grafo;\n",
    "}\n",
    "\n",
    "bool VerificaClique(const vector<vector<int> >& grafo, const vector<int>& clique) {\n",
    "    for (int i = 0; i < clique.size(); i++) {\n",
    "        for (int j = i + 1; j < clique.size(); j++) {\n",
    "            if (grafo[clique[i]][clique[j]] == 0) { return false; }\n",
    "        }\n",
    "    }\n",
    "    return true;\n",
    "}\n",
    "\n",
    "void EncontrarCliqueMaxima(const vector<vector<int> >& grafo, int numVertices, vector<int>& cliqueMaxima) {\n",
    "    vector<int> cliqueGlobal;\n",
    "    mutex mtx;  // Protege o acesso ao clique máximo global\n",
    "\n",
    "    #pragma omp parallel\n",
    "    {\n",
    "        vector<int> cliqueLocal;  // Clique máximo de cada thread\n",
    "        vector<int> atualClique;\n",
    "\n",
    "        // Função recursiva para construir cliques\n",
    "        auto backtrack = [&](int v, auto& backtrack_ref) -> void {\n",
    "            if (atualClique.size() > cliqueLocal.size()) { cliqueLocal = atualClique; }\n",
    "\n",
    "            for (int i = v; i < numVertices; i++) {\n",
    "                atualClique.push_back(i);\n",
    "                if (VerificaClique(grafo, atualClique)) { backtrack_ref(i + 1, backtrack_ref); }\n",
    "                atualClique.pop_back();\n",
    "            }\n",
    "        };\n",
    "\n",
    "        #pragma omp for schedule(dynamic)\n",
    "        for (int i = 0; i < numVertices; i++) {\n",
    "            atualClique.clear();\n",
    "            atualClique.push_back(i);\n",
    "            backtrack(i + 1, backtrack);\n",
    "        }\n",
    "\n",
    "        // Atualiza o clique máximo global\n",
    "        mtx.lock();\n",
    "        if (cliqueLocal.size() > cliqueGlobal.size()) { cliqueGlobal = cliqueLocal; }\n",
    "        mtx.unlock();\n",
    "    }\n",
    "    cliqueMaxima = cliqueGlobal;\n",
    "}\n",
    "\n",
    "int main() {\n",
    "    int numVertices = 136;\n",
    "    vector<vector<int> > grafo = LerGrafo(\"grafo1.txt\", numVertices);\n",
    "    vector<int> cliqueMaxima;\n",
    "    double start = omp_get_wtime();\n",
    "    EncontrarCliqueMaxima(grafo, numVertices, cliqueMaxima);\n",
    "    double end = omp_get_wtime();\n",
    "\n",
    "    cout << \"Clique máxima arquivo saída: \";\n",
    "    for (int i = 0; i < cliqueMaxima.size(); i++) { cout << cliqueMaxima[i] + 1 << \" \"; }\n",
    "    cout << endl;\n",
    "\n",
    "    cout << \"Tempo de execução: \" << (end - start) << \" segundos\" << endl;\n",
    "    return 0;\n",
    "}"
   ]
  },
  {
   "cell_type": "code",
   "execution_count": 3,
   "metadata": {},
   "outputs": [],
   "source": [
    "!g++ -fopenmp threads_openmp.cpp -o threads_openmp"
   ]
  },
  {
   "cell_type": "code",
   "execution_count": 4,
   "metadata": {},
   "outputs": [],
   "source": [
    "!g++ -fopenmp threads_openmp1.cpp -o threads_openmp1"
   ]
  },
  {
   "cell_type": "markdown",
   "metadata": {},
   "source": [
    "## Criando arquivos de configuração"
   ]
  },
  {
   "cell_type": "code",
   "execution_count": 6,
   "metadata": {},
   "outputs": [
    {
     "name": "stdout",
     "output_type": "stream",
     "text": [
      "Writing submit1.slurm\n"
     ]
    }
   ],
   "source": [
    "%%writefile submit1.slurm\n",
    "#!/bin/bash\n",
    "#SBATCH --job-name=openmp             # Nome do job\n",
    "#SBATCH --output=openmp_%j.txt          # Nome do arquivo de saída\n",
    "#SBATCH --ntasks=4                              # Número de tarefas \n",
    "#SBATCH --cpus-per-task=2                       # Número de threads por tarefa \n",
    "#SBATCH --mem=1024                               # Memória total alocada por nó\n",
    "#SBATCH --time=00:20:00                         # Tempo máximo de execução\n",
    "#SBATCH --partition=espec                      # fila do cluster a ser utilizada\n",
    "\n",
    "./threads_openmp1"
   ]
  },
  {
   "cell_type": "code",
   "execution_count": 7,
   "metadata": {},
   "outputs": [
    {
     "name": "stdout",
     "output_type": "stream",
     "text": [
      "Submitted batch job 10016\n"
     ]
    }
   ],
   "source": [
    "!sbatch submit.slurm"
   ]
  },
  {
   "cell_type": "code",
   "execution_count": 8,
   "metadata": {},
   "outputs": [
    {
     "name": "stdout",
     "output_type": "stream",
     "text": [
      "Submitted batch job 10017\n"
     ]
    }
   ],
   "source": [
    "!sbatch submit1.slurm"
   ]
  },
  {
   "attachments": {},
   "cell_type": "markdown",
   "metadata": {},
   "source": [
    "## Realizando a verificação do grafo"
   ]
  },
  {
   "cell_type": "code",
   "execution_count": 10,
   "metadata": {},
   "outputs": [
    {
     "name": "stdout",
     "output_type": "stream",
     "text": [
      "Writing verificacao_da_clique1.py\n"
     ]
    }
   ],
   "source": [
    "%%writefile verificacao_da_clique1.py\n",
    "import networkx as nx\n",
    "\n",
    "# Abrir o arquivo e pular a primeira linha\n",
    "with open(\"grafo1.txt\", 'r') as arquivo:\n",
    "    next(arquivo)  # Pula a primeira linha\n",
    "\n",
    "    # Lê o grafo a partir das linhas restantes\n",
    "    G = nx.parse_adjlist(arquivo)\n",
    "\n",
    "# Encontrar todas as cliques maximais\n",
    "cliques_maximais = list(nx.find_cliques(G))\n",
    "\n",
    "# Encontrar a clique máxima (a maior)\n",
    "clique_maxima = max(cliques_maximais, key=len)\n",
    "\n",
    "# Salvar as cliques maximais em um arquivo\n",
    "with open(\"verificacao1.txt\", 'w') as arquivo:\n",
    "    arquivo.write(f\"Cliques maximais encontradas\\n\")\n",
    "    for clique in cliques_maximais:\n",
    "        arquivo.write(f\"{' '.join(map(str, clique))}\\n\")\n",
    "    arquivo.write(f\"\\nClique máxima encontrada\\n\")\n",
    "    arquivo.write(f\"{len(clique_maxima)} = {' '.join(map(str, clique_maxima))}\\n\")"
   ]
  },
  {
   "cell_type": "code",
   "execution_count": 11,
   "metadata": {},
   "outputs": [],
   "source": [
    "%run verificacao_da_clique.py"
   ]
  },
  {
   "cell_type": "code",
   "execution_count": 12,
   "metadata": {},
   "outputs": [],
   "source": [
    "%run verificacao_da_clique1.py"
   ]
  },
  {
   "cell_type": "code",
   "execution_count": 14,
   "metadata": {},
   "outputs": [
    {
     "name": "stdout",
     "output_type": "stream",
     "text": [
      "[14, 19, 23, 24, 25, 27, 36, 37, 39, 41, 46]\n",
      "['Clique máxima arquivo saída: 3 8 19 22 23 28 31 32 33 40 50 \\n', 'Tempo de execução: 0.0220482 segundos\\n']\n",
      "[10, 11, 12, 15, 30, 32, 35, 41, 42, 47, 58, 61, 68, 86, 100]\n",
      "['Clique máxima arquivo saída: 10 11 12 15 30 32 35 41 42 47 58 61 68 86 100 \\n', 'Tempo de execução: 3.59543 segundos\\n']\n"
     ]
    }
   ],
   "source": [
    "with open('verificacao.txt', 'r') as file:\n",
    "    lines = file.readlines()  # Lê todas as linhas\n",
    "    ultima_linha = lines[-1]  # Pega a última linha\n",
    "    _, numeros = ultima_linha.split(\"=\", 1)\n",
    "    lista = list(map(int, numeros.split()))\n",
    "    lista.sort()\n",
    "    print(lista)\n",
    "\n",
    "with open('openmp_10016.txt', 'r') as file:\n",
    "    lines = file.readlines()  # Lê todas as linhas\n",
    "    print(lines)\n",
    "\n",
    "with open('verificacao1.txt', 'r') as file:\n",
    "    lines = file.readlines()  # Lê todas as linhas\n",
    "    ultima_linha = lines[-1]  # Pega a última linha\n",
    "    _, numeros = ultima_linha.split(\"=\", 1)\n",
    "    lista = list(map(int, numeros.split()))\n",
    "    lista.sort()\n",
    "    print(lista)\n",
    "\n",
    "with open('openmp_10017.txt', 'r') as file:\n",
    "    lines = file.readlines()  # Lê todas as linhas\n",
    "    print(lines)"
   ]
  },
  {
   "attachments": {},
   "cell_type": "markdown",
   "metadata": {},
   "source": [
    "## Justificativa das alterações\n",
    "\n",
    "As alterações feitas no código para utilizar o OpenMP, com o objetivo de melhorar o desempenho da busca pelo clique máximo em um grafo, foram as seguintes:\n",
    "\n",
    "- Inclusão de #include <omp.h> permiti o uso de recursos do OpenMP. \n",
    "- Região paralela criada com #pragma omp parallel, garantindo o trabalho de múltiplas threads ao mesmo tempo, cada um com sua variável cliqueLocal, diminuindo o risco de interferência entre threads.\n",
    "- Loop principal foi paralelizado com #pragma omp for schedule(dynamic), possibilitando diferentes vértices do grafo serem processados por diferentes threads --> schedule(dynamic) escolhido pra lidar com possíveis desequilíbrios na carga de trabalho.\n",
    "- Proteger o acesso à variável compartilhada com std::mutex, garantindo que apenas uma thread atualize o cliqueGlobal de cada vez, evitando condições de corrida.\n",
    "\n",
    "## Speed up\n",
    "\n",
    "É possível afirmar, baseando-se na Tabela de tempos de execução a seguir, que houve um speed up impactante da implementação exaustiva para o openMP, com um tempo de execução aproximadamente 11 vezes mais rápido, e que com isso as mudanças foram extremamente beneficiais.\n",
    "\n",
    "| Implementação | numVertices |   Tempo     |\n",
    "|---------------|-------------|-------------|\n",
    "| exaustiva     |     50      | 0.193033 s  |\n",
    "| exaustiva     |     100     | 51.3523 s   |\n",
    "| openMP        |     50      | 0.0220482 s |\n",
    "| openMP        |     100     | 3.59543 s   |\n"
   ]
  }
 ],
 "metadata": {
  "kernelspec": {
   "display_name": "Python 3 (ipykernel)",
   "language": "python",
   "name": "python3"
  },
  "language_info": {
   "codemirror_mode": {
    "name": "ipython",
    "version": 3
   },
   "file_extension": ".py",
   "mimetype": "text/x-python",
   "name": "python",
   "nbconvert_exporter": "python",
   "pygments_lexer": "ipython3",
   "version": "3.9.18"
  }
 },
 "nbformat": 4,
 "nbformat_minor": 4
}
